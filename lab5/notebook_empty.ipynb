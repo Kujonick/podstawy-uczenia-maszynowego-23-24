{
 "cells": [
  {
   "cell_type": "markdown",
   "metadata": {},
   "source": [
    "Poza standardowymi narzędziami do klasyfikacji tabelarycznej użyjemy bibliotek:\n",
    "1. [Imbalanced-learn](https://imbalanced-learn.org/stable/index.html) - biblioteka implementująca różne algorytmy undersamplingu i oversamplingu\n",
    "2. [PyOD](https://pyod.readthedocs.io/en/latest/index.html) - biblioteka implementująca mnóstwo algorytmów outlier detection\n",
    "3. [XGBoost](https://xgboost.readthedocs.io/en/stable/) - oficjalna implementacja algorytmu XGBoost"
   ]
  },
  {
   "cell_type": "code",
   "execution_count": 1,
   "metadata": {},
   "outputs": [],
   "source": [
    "import matplotlib.pyplot as plt\n",
    "import numpy as np\n",
    "import pandas as pd"
   ]
  },
  {
   "cell_type": "markdown",
   "metadata": {},
   "source": [
    "## Klasyfikacja umiarkowanie niezbalansowana"
   ]
  },
  {
   "cell_type": "markdown",
   "metadata": {},
   "source": [
    "Najpierw wykorzystamy zbiór danych [Polish companies bankruptcy](https://archive.ics.uci.edu/ml/datasets/Polish+companies+bankruptcy+data). Dotyczy on klasyfikacji, na podstawie danych z raportów finansowych, czy firma zbankrutuje w ciągu najbliższych kilku lat. Jest to zadanie szczególnie istotne dla banków, funduszy inwestycyjnych, firm ubezpieczeniowych itp., które z tego powodu zatrudniają licznie data scientistów. Zbiór zawiera 64 cechy, obliczone przez ekonomistów, którzy stworzyli ten zbiór, opisane na stronie UCI.\n",
    "\n",
    "Wykorzystamy podzbiór, w którym na podstawie finansowych firmy po 3 latach monitorowania chcemy przewidywać, czy firma zbankrutuje w ciągu najbliższych 3 lat. Jest to dość realistyczny horyzont czasowy, a przy tym największy z podzbiorów."
   ]
  },
  {
   "cell_type": "code",
   "execution_count": 2,
   "metadata": {},
   "outputs": [
    {
     "data": {
      "text/html": [
       "<div>\n",
       "<style scoped>\n",
       "    .dataframe tbody tr th:only-of-type {\n",
       "        vertical-align: middle;\n",
       "    }\n",
       "\n",
       "    .dataframe tbody tr th {\n",
       "        vertical-align: top;\n",
       "    }\n",
       "\n",
       "    .dataframe thead th {\n",
       "        text-align: right;\n",
       "    }\n",
       "</style>\n",
       "<table border=\"1\" class=\"dataframe\">\n",
       "  <thead>\n",
       "    <tr style=\"text-align: right;\">\n",
       "      <th></th>\n",
       "      <th>Attr1</th>\n",
       "      <th>Attr2</th>\n",
       "      <th>Attr3</th>\n",
       "      <th>Attr4</th>\n",
       "      <th>Attr5</th>\n",
       "      <th>Attr6</th>\n",
       "      <th>Attr7</th>\n",
       "      <th>Attr8</th>\n",
       "      <th>Attr9</th>\n",
       "      <th>Attr10</th>\n",
       "      <th>...</th>\n",
       "      <th>Attr55</th>\n",
       "      <th>Attr56</th>\n",
       "      <th>Attr57</th>\n",
       "      <th>Attr58</th>\n",
       "      <th>Attr59</th>\n",
       "      <th>Attr60</th>\n",
       "      <th>Attr61</th>\n",
       "      <th>Attr62</th>\n",
       "      <th>Attr63</th>\n",
       "      <th>Attr64</th>\n",
       "    </tr>\n",
       "  </thead>\n",
       "  <tbody>\n",
       "    <tr>\n",
       "      <th>0</th>\n",
       "      <td>0.174190</td>\n",
       "      <td>0.41299</td>\n",
       "      <td>0.14371</td>\n",
       "      <td>1.3480</td>\n",
       "      <td>-28.9820</td>\n",
       "      <td>0.60383</td>\n",
       "      <td>0.219460</td>\n",
       "      <td>1.1225</td>\n",
       "      <td>1.1961</td>\n",
       "      <td>0.46359</td>\n",
       "      <td>...</td>\n",
       "      <td>127280.0</td>\n",
       "      <td>0.163960</td>\n",
       "      <td>0.375740</td>\n",
       "      <td>0.83604</td>\n",
       "      <td>0.000007</td>\n",
       "      <td>9.7145</td>\n",
       "      <td>6.2813</td>\n",
       "      <td>84.291</td>\n",
       "      <td>4.3303</td>\n",
       "      <td>4.0341</td>\n",
       "    </tr>\n",
       "    <tr>\n",
       "      <th>1</th>\n",
       "      <td>0.146240</td>\n",
       "      <td>0.46038</td>\n",
       "      <td>0.28230</td>\n",
       "      <td>1.6294</td>\n",
       "      <td>2.5952</td>\n",
       "      <td>0.00000</td>\n",
       "      <td>0.171850</td>\n",
       "      <td>1.1721</td>\n",
       "      <td>1.6018</td>\n",
       "      <td>0.53962</td>\n",
       "      <td>...</td>\n",
       "      <td>3387.8</td>\n",
       "      <td>0.027516</td>\n",
       "      <td>0.271000</td>\n",
       "      <td>0.90108</td>\n",
       "      <td>0.000000</td>\n",
       "      <td>5.9882</td>\n",
       "      <td>4.1103</td>\n",
       "      <td>102.190</td>\n",
       "      <td>3.5716</td>\n",
       "      <td>5.9500</td>\n",
       "    </tr>\n",
       "    <tr>\n",
       "      <th>2</th>\n",
       "      <td>0.000595</td>\n",
       "      <td>0.22612</td>\n",
       "      <td>0.48839</td>\n",
       "      <td>3.1599</td>\n",
       "      <td>84.8740</td>\n",
       "      <td>0.19114</td>\n",
       "      <td>0.004572</td>\n",
       "      <td>2.9881</td>\n",
       "      <td>1.0077</td>\n",
       "      <td>0.67566</td>\n",
       "      <td>...</td>\n",
       "      <td>20453.0</td>\n",
       "      <td>0.007639</td>\n",
       "      <td>0.000881</td>\n",
       "      <td>0.99236</td>\n",
       "      <td>0.000000</td>\n",
       "      <td>6.7742</td>\n",
       "      <td>3.7922</td>\n",
       "      <td>64.846</td>\n",
       "      <td>5.6287</td>\n",
       "      <td>4.4581</td>\n",
       "    </tr>\n",
       "    <tr>\n",
       "      <th>3</th>\n",
       "      <td>0.024526</td>\n",
       "      <td>0.43236</td>\n",
       "      <td>0.27546</td>\n",
       "      <td>1.7833</td>\n",
       "      <td>-10.1050</td>\n",
       "      <td>0.56944</td>\n",
       "      <td>0.024526</td>\n",
       "      <td>1.3057</td>\n",
       "      <td>1.0509</td>\n",
       "      <td>0.56453</td>\n",
       "      <td>...</td>\n",
       "      <td>5012.6</td>\n",
       "      <td>0.048398</td>\n",
       "      <td>0.043445</td>\n",
       "      <td>0.95160</td>\n",
       "      <td>0.142980</td>\n",
       "      <td>4.2286</td>\n",
       "      <td>5.0528</td>\n",
       "      <td>98.783</td>\n",
       "      <td>3.6950</td>\n",
       "      <td>3.4844</td>\n",
       "    </tr>\n",
       "    <tr>\n",
       "      <th>4</th>\n",
       "      <td>0.188290</td>\n",
       "      <td>0.41504</td>\n",
       "      <td>0.34231</td>\n",
       "      <td>1.9279</td>\n",
       "      <td>-58.2740</td>\n",
       "      <td>0.00000</td>\n",
       "      <td>0.233580</td>\n",
       "      <td>1.4094</td>\n",
       "      <td>1.3393</td>\n",
       "      <td>0.58496</td>\n",
       "      <td>...</td>\n",
       "      <td>13730.0</td>\n",
       "      <td>0.176480</td>\n",
       "      <td>0.321880</td>\n",
       "      <td>0.82635</td>\n",
       "      <td>0.073039</td>\n",
       "      <td>2.5912</td>\n",
       "      <td>7.0756</td>\n",
       "      <td>100.540</td>\n",
       "      <td>3.6303</td>\n",
       "      <td>4.6375</td>\n",
       "    </tr>\n",
       "  </tbody>\n",
       "</table>\n",
       "<p>5 rows × 64 columns</p>\n",
       "</div>"
      ],
      "text/plain": [
       "      Attr1    Attr2    Attr3   Attr4    Attr5    Attr6     Attr7   Attr8  \\\n",
       "0  0.174190  0.41299  0.14371  1.3480 -28.9820  0.60383  0.219460  1.1225   \n",
       "1  0.146240  0.46038  0.28230  1.6294   2.5952  0.00000  0.171850  1.1721   \n",
       "2  0.000595  0.22612  0.48839  3.1599  84.8740  0.19114  0.004572  2.9881   \n",
       "3  0.024526  0.43236  0.27546  1.7833 -10.1050  0.56944  0.024526  1.3057   \n",
       "4  0.188290  0.41504  0.34231  1.9279 -58.2740  0.00000  0.233580  1.4094   \n",
       "\n",
       "    Attr9   Attr10  ...    Attr55    Attr56    Attr57   Attr58    Attr59  \\\n",
       "0  1.1961  0.46359  ...  127280.0  0.163960  0.375740  0.83604  0.000007   \n",
       "1  1.6018  0.53962  ...    3387.8  0.027516  0.271000  0.90108  0.000000   \n",
       "2  1.0077  0.67566  ...   20453.0  0.007639  0.000881  0.99236  0.000000   \n",
       "3  1.0509  0.56453  ...    5012.6  0.048398  0.043445  0.95160  0.142980   \n",
       "4  1.3393  0.58496  ...   13730.0  0.176480  0.321880  0.82635  0.073039   \n",
       "\n",
       "   Attr60  Attr61   Attr62  Attr63  Attr64  \n",
       "0  9.7145  6.2813   84.291  4.3303  4.0341  \n",
       "1  5.9882  4.1103  102.190  3.5716  5.9500  \n",
       "2  6.7742  3.7922   64.846  5.6287  4.4581  \n",
       "3  4.2286  5.0528   98.783  3.6950  3.4844  \n",
       "4  2.5912  7.0756  100.540  3.6303  4.6375  \n",
       "\n",
       "[5 rows x 64 columns]"
      ]
     },
     "execution_count": 2,
     "metadata": {},
     "output_type": "execute_result"
    }
   ],
   "source": [
    "from scipy.io import arff\n",
    "import pandas as pd\n",
    "\n",
    "data = arff.loadarff(\"polish_companies_bankruptcy_3_year_data.arff\")\n",
    "\n",
    "df = pd.DataFrame(data[0])\n",
    "y = df.pop(\"class\").astype(int)\n",
    "\n",
    "df.head()"
   ]
  },
  {
   "cell_type": "markdown",
   "metadata": {},
   "source": [
    "**Zadanie 1 (1 punkt)**\n",
    "\n",
    "1. Zwizualizuj brakujące ilość brakujących danych na wykresie słupkowym (bar plot).\n",
    "2. Zwizualizuj rozkład klas na wykresie.\n",
    "3. Usuń cechę `Attr37`, mającą dużo wartości brakujących.\n",
    "4. Dokonaj podziału na zbiór treningowy i testowy w proporcjach 75%-25%, ze stratyfikacją. Pamiętaj o `random_state=0`.\n",
    "5. Zbuduj i zastosuj pipeline (`make_pipeline`) do czyszczenia danych, składający się z:\n",
    "   - uzupełnienia wartości brakujących wartością średnią (`SimpleImputer`)\n",
    "   - standaryzacji danych (`StandardScaler`)"
   ]
  },
  {
   "cell_type": "code",
   "execution_count": 3,
   "metadata": {},
   "outputs": [
    {
     "data": {
      "image/png": "[encoded data removed]",
      "text/plain": [
       "<Figure size 640x480 with 1 Axes>"
      ]
     },
     "metadata": {},
     "output_type": "display_data"
    },
    {
     "data": {
      "image/png": "[encoded data removed]",
      "text/plain": [
       "<Figure size 640x480 with 1 Axes>"
      ]
     },
     "metadata": {},
     "output_type": "display_data"
    }
   ],
   "source": [
    "def na_count(df):\n",
    "    plt.bar([i for i in range(df.shape[1])], df.isna().sum())\n",
    "    plt.xlabel(\"Atrribute #\")\n",
    "    plt.title(\"Missing values per Attribute\")\n",
    "    plt.semilogy()\n",
    "    plt.yticks(np.logspace(0, 4, 5))\n",
    "    plt.show()\n",
    "\n",
    "def class_distribution():\n",
    "    plt.pie(y.value_counts(), labels = [\"No\", \"Yes\"], colors = [\"blue\", \"red\"])\n",
    "    plt.title(\"Will company go bancrupt?\")\n",
    "    plt.show()\n",
    "\n",
    "na_count(df)\n",
    "class_distribution()"
   ]
  },
  {
   "cell_type": "code",
   "execution_count": 4,
   "metadata": {},
   "outputs": [],
   "source": [
    "df = df.drop(columns=[\"Attr37\"])"
   ]
  },
  {
   "cell_type": "code",
   "execution_count": 5,
   "metadata": {},
   "outputs": [],
   "source": [
    "from sklearn.model_selection import train_test_split\n",
    "\n",
    "X_train_raw, X_test_raw, y_train, y_test = train_test_split(df, y, test_size=0.25, stratify=y, random_state=0)"
   ]
  },
  {
   "cell_type": "code",
   "execution_count": 6,
   "metadata": {},
   "outputs": [],
   "source": [
    "from sklearn.pipeline import Pipeline, make_pipeline\n",
    "from sklearn.impute import SimpleImputer\n",
    "from sklearn.preprocessing import StandardScaler\n",
    "\n",
    "pipeline = make_pipeline(SimpleImputer(strategy=\"median\"), StandardScaler())\n",
    "\n",
    "X_train = pipeline.fit_transform(X_train_raw)\n",
    "X_test = pipeline.transform(X_test_raw)"
   ]
  },
  {
   "cell_type": "markdown",
   "metadata": {},
   "source": [
    "Standaryzacja była szczególnie ważna, bo metody undersamplingu i oversamplingu są oparte o najbliższych sąsiadów."
   ]
  },
  {
   "cell_type": "markdown",
   "metadata": {},
   "source": [
    "## Cost-sensitive learning i threshold tuning"
   ]
  },
  {
   "cell_type": "markdown",
   "metadata": {},
   "source": [
    "Jako naszego algorytmu użyjemy lasu losowego (Random Forest). Dla przypomnienia, jest on oparty o **uczenie zespołowe (ensemble learning)**, w którym uśredniamy decyzje wielu klasyfikatorów bazowych. Są to drzewa decyzyjne. Losujemy w nim **próbki bootstrapowe (bootstrap samples)**, czyli losujemy z powtórzeniami tyle punktów, ile wynosi rozmiar naszego zbioru. Dla każdej losujemy także podzbiór cech, typowo tyle, ile wynosi pierwiastek kwadratowy z liczby wszystkich cech. Następnie trenujemy drzewa decyzyjne na takich wylosowanych podzbiorach. Decyzja klasyfikatora jest podejmowana przez głosowanie drzew (w klasyfikacji) lub ich uśrednienie (w regresji).\n",
    "\n",
    "W wielu zastosowaniach dużą zaletą lasów losowych jest ich niska podatność na tuning hiperparametrów, tzw. **tunability**. Algorytmy o wysokim tunability (np. SVM) są podatne na dobór hiperparametrów i wymagają jego zastosowania, żeby osiągnąć dobre wyniki. Random Forest działa typowo doskonale z domyślnymi hiperparametrami, co najwyżej warto czasem ustawić większą liczbę drzew, niż domyślna. Ciekawe artykuły w tej kwestii to:\n",
    "\n",
    "> Probst, Philipp, Anne-Laure Boulesteix, and Bernd Bischl. *\"Tunability: Importance of hyperparameters of machine learning algorithms.\"* The Journal of Machine Learning Research 20.1 (2019): 1934-1965. [link](https://www.jmlr.org/papers/volume20/18-444/18-444.pdf)\n",
    "\n",
    "> Probst, Philipp, Marvin N. Wright, and Anne‐Laure Boulesteix. *\"Hyperparameters and tuning strategies for random forest.\"* Wiley Interdisciplinary Reviews: data mining and knowledge discovery 9.3 (2019): e1301. [link](https://arxiv.org/pdf/1804.03515.pdf)\n",
    "\n",
    "Dzięki wykorzystaniu Random Forest zasadniczo nie będziemy potrzebować tuningu hiperparametrów dla klasyfikatora. Nadaje się też dobrze do klasyfikacji niezbalansowanej: drzewa decyzyjne łatwo integrują ważenie klas w proces treningu, a uśrednianie decyzji mocno zmniejsza wariancję błędu.\n",
    "\n",
    "Ze względu na niezbalansowanie zbioru, które jest znaczące, ale nie ekstremalne, wykorzystamy dwie metryki: AUROC oraz F1-score. Ta druga będzie przydatna przy **threshold tuningu**."
   ]
  },
  {
   "cell_type": "code",
   "execution_count": 7,
   "metadata": {},
   "outputs": [
    {
     "name": "stdout",
     "output_type": "stream",
     "text": [
      "AUROC: 84.99%\n",
      "F1-score: 11.59%\n"
     ]
    }
   ],
   "source": [
    "from sklearn.ensemble import RandomForestClassifier\n",
    "from sklearn.metrics import f1_score, roc_auc_score\n",
    "\n",
    "\n",
    "clf_rf = RandomForestClassifier(random_state=0, n_jobs=-1)\n",
    "clf_rf.fit(X_train, y_train)\n",
    "\n",
    "y_pred = clf_rf.predict(X_test)\n",
    "y_pred_score = clf_rf.predict_proba(X_test)[:, 1]\n",
    "\n",
    "auroc = roc_auc_score(y_test, y_pred_score)\n",
    "f1 = f1_score(y_test, y_pred)\n",
    "\n",
    "print(f\"AUROC: {100 * auroc:.2f}%\")\n",
    "print(f\"F1-score: {100 * f1:.2f}%\")"
   ]
  },
  {
   "cell_type": "markdown",
   "metadata": {},
   "source": [
    "AUROC wydaje się niezłe, ale F1-score pozostawia wiele do życzenia. Zobaczmy, czy **cost-sensitive learning** coś zmieni. Skorzystamy z domyślnej heurystyki do ważenia klas `\"balanced\"`."
   ]
  },
  {
   "cell_type": "code",
   "execution_count": 8,
   "metadata": {},
   "outputs": [
    {
     "name": "stdout",
     "output_type": "stream",
     "text": [
      "AUROC: 86.81%\n",
      "F1-score: 18.31%\n"
     ]
    }
   ],
   "source": [
    "clf_rf_csl = RandomForestClassifier(class_weight=\"balanced\", random_state=0, n_jobs=-1)\n",
    "clf_rf_csl.fit(X_train, y_train)\n",
    "\n",
    "y_pred = clf_rf_csl.predict(X_test)\n",
    "y_pred_score = clf_rf_csl.predict_proba(X_test)[:, 1]\n",
    "\n",
    "auroc = roc_auc_score(y_test, y_pred_score)\n",
    "f1 = f1_score(y_test, y_pred)\n",
    "\n",
    "print(f\"AUROC: {100 * auroc:.2f}%\")\n",
    "print(f\"F1-score: {100 * f1:.2f}%\")"
   ]
  },
  {
   "cell_type": "markdown",
   "metadata": {},
   "source": [
    "Jedna metryka rośnie, druga maleje - tak też się może zdarzyć. Takie sytuacje są zawsze ciekawe, bo pokazują różne aspekty tego, jak radzi sobie nasz klasyfikator. F1-score łączy precyzję i czułość, więc warto przeanalizować to głębiej."
   ]
  },
  {
   "cell_type": "code",
   "execution_count": 9,
   "metadata": {},
   "outputs": [
    {
     "name": "stdout",
     "output_type": "stream",
     "text": [
      "RF\n",
      "  Precision: 57.14%\n",
      "  Recall: 6.45%\n",
      "\n",
      "RF with cost-sensitive learning\n",
      "  Precision: 72.22%\n",
      "  Recall: 10.48%\n"
     ]
    }
   ],
   "source": [
    "from sklearn.metrics import precision_score, recall_score\n",
    "\n",
    "print(\"RF\")\n",
    "rf_precision = precision_score(y_test, clf_rf.predict(X_test))\n",
    "rf_recall = recall_score(y_test, clf_rf.predict(X_test))\n",
    "print(f\"  Precision: {100 * rf_precision:.2f}%\")\n",
    "print(f\"  Recall: {100 * rf_recall:.2f}%\")\n",
    "\n",
    "print()\n",
    "\n",
    "print(\"RF with cost-sensitive learning\")\n",
    "rf_csl_precision = precision_score(y_test, clf_rf_csl.predict(X_test))\n",
    "rf_csl_recall = recall_score(y_test, clf_rf_csl.predict(X_test))\n",
    "print(f\"  Precision: {100 * rf_csl_precision:.2f}%\")\n",
    "print(f\"  Recall: {100 * rf_csl_recall:.2f}%\")"
   ]
  },
  {
   "cell_type": "markdown",
   "metadata": {},
   "source": [
    "Z cost-sensitive learningiem predykcje prawdopodobieństwa co prawda są lepsze (bo mamy wyższy AUROC), ale i precyzja, i czułość spadły. No i w obu przypadkach mamy naprawdę niski recall!\n",
    "\n",
    "Coś trzeba z tym zrobić. Skoro F1-score to metryka binarna, to najłatwiej zmienić próg klasy pozytywnej, czyli zrobić threshold tuning."
   ]
  },
  {
   "cell_type": "markdown",
   "metadata": {},
   "source": [
    "**Zadanie 2 (1.5 punktu)**\n",
    "\n",
    "Zaimplementuj threshold tuning z pomocą walidacji skrośnej. Skorzystaj z funkcji `thresholded_f1_score()`, która jest gotową metryką, obliczającą F1-score dla podanych prawdopodobieństw klasy pozytywnej i progu klasyfikacji.\n",
    "\n",
    "1. Stwórz listę progów [0.1, 0.15, 0.2, .., 0.5]\n",
    "2. Dla każdego progu stwórz nowy obiekt metryki z pomocą funkcji `make_scorer()`. Pamiętaj, że większa wartość jest lepsza i potrzebujemy prawdopodobieństw. Trzeba też podać wartość dla naszego progu (`threshold`) z pomocą `**kwargs`.\n",
    "3. Oblicz wyniki walidacji skrośnej z pomocą funkcji `cross_val_score` dla Random Forest z cost-sensitive tuning. Wykorzystaj 5-fold CV. Funkcja ta zwraca wyniki dla wszystkich foldów - oblicz średni wynik.\n",
    "4. Zwizualizuj na wykresie wyniki F1-score dla poszczególnych progów. Pamiętaj o opisaniu osi i tytule wykresu.\n",
    "5. Dla optymalnego progu oblicz i wypisz F1-score, precision i recall. Próg, dla którego osiągnięto najwyższy F1-score, można łatwo wyciągnąć z pomocą `np.argmax()`.\n",
    "6. Skomentuj zmianę w precision i recall. Czy twoim zdaniem warto dokonać takiej zmiany w przypadku tego zbioru, tj. przewidywania, czy spółka zbankrutuje?"
   ]
  },
  {
   "cell_type": "code",
   "execution_count": 10,
   "metadata": {},
   "outputs": [],
   "source": [
    "def thresholded_f1_score(y_true, y_score, threshold: float, **kwargs) -> float:\n",
    "    y_pred = y_score >= threshold\n",
    "    return f1_score(y_true, y_pred, **kwargs)"
   ]
  },
  {
   "cell_type": "code",
   "execution_count": 11,
   "metadata": {},
   "outputs": [],
   "source": [
    "from sklearn.metrics import make_scorer\n",
    "from sklearn.model_selection import cross_val_score\n",
    "\n",
    "\n",
    "thresholds = np.arange(0.1, 0.51, 0.05)\n",
    "f1_scores = []\n",
    "clf_rf = RandomForestClassifier(class_weight=\"balanced\", random_state=0, n_jobs=-1)\n",
    "clf_rf.fit(X_train, y_train)\n",
    "for threshold in thresholds:\n",
    "    scorer = make_scorer(thresholded_f1_score, \n",
    "                         threshold=threshold,\n",
    "                         response_method=\"predict_proba\")\n",
    "    \n",
    "    mean = np.mean(cross_val_score(estimator=clf_rf, \n",
    "                                   X=X_train, \n",
    "                                   y=y_train, \n",
    "                                   cv=5, \n",
    "                                   n_jobs=-1,\n",
    "                                   scoring=scorer))\n",
    "    f1_scores.append(mean)\n",
    "\n"
   ]
  },
  {
   "cell_type": "code",
   "execution_count": 12,
   "metadata": {},
   "outputs": [
    {
     "data": {
      "image/png": "[encoded data removed]",
      "text/plain": [
       "<Figure size 640x480 with 1 Axes>"
      ]
     },
     "metadata": {},
     "output_type": "display_data"
    }
   ],
   "source": [
    "def visualize_f1_tresh(f1_scores, thresholds):\n",
    "    plt.plot(thresholds, f1_scores)\n",
    "    plt.xlabel(\"Treshold\")\n",
    "    plt.ylabel(\"f1_score\")\n",
    "    \n",
    "visualize_f1_tresh(f1_scores, thresholds)"
   ]
  },
  {
   "cell_type": "code",
   "execution_count": 13,
   "metadata": {},
   "outputs": [
    {
     "name": "stdout",
     "output_type": "stream",
     "text": [
      "optimal threshold: 0.15\n",
      "  F1-score: 42.31%\n",
      "  Precision: 40.44%\n",
      "  Recall: 44.35%\n"
     ]
    }
   ],
   "source": [
    "optimal_thresh_idx = np.argmax(f1_scores)\n",
    "optimal_thresh = thresholds[optimal_thresh_idx]\n",
    "y_pred = clf_rf.predict_proba(X_test)[:,1] >= optimal_thresh\n",
    "\n",
    "f1 = f1_score(y_test, y_pred)\n",
    "rf_csl_precision = precision_score(y_test, y_pred)\n",
    "rf_csl_recall = recall_score(y_test, y_pred)\n",
    "\n",
    "print(f\"optimal threshold: {optimal_thresh:.2f}\")\n",
    "print(f\"  F1-score: {100 * f1:.2f}%\")\n",
    "print(f\"  Precision: {100 * rf_csl_precision:.2f}%\")\n",
    "print(f\"  Recall: {100 * rf_csl_recall:.2f}%\")\n"
   ]
  },
  {
   "cell_type": "markdown",
   "metadata": {},
   "source": [
    "// KOMENTARZ\n",
    "\n",
    "Wydaje się że jednak pomimo lepszego wyniku f1 to zmiana w gorszą stronę. Recall jest tutaj ważniejsze, ponieważ lepiej wyciągnąć pieniądze z firmy która nie upadnie ale wyglądała jakby miała paść, niż nie wyciągnąć z tej która zbankrutuje."
   ]
  },
  {
   "cell_type": "markdown",
   "metadata": {},
   "source": [
    "## Undersampling, oversampling"
   ]
  },
  {
   "cell_type": "markdown",
   "metadata": {},
   "source": [
    "Być może klasa większościowa, której jest 95%, jest mocno zaszumiona i są tam przykłady, które warto byłoby usunąć. Czemu tak może być?\n",
    "\n",
    "Pamiętajmy, że klasa pozytywna to spółki, które zbankrutują w ciągu najbliższych 3 lat. Przy granicy decyzyjnej w klasie dominującej mogą być na przykład startupy o dużym ryzyku, które nie zbankrutowały, ale było to kwestią dobrej koniunktury i szczęśliwego trafu tych spółek. Równie dobrze mogłyby upaść przez niskie zasoby twarde czy rosnące koszty. Można je potraktować jak mało miarodajny szum, który tylko z przyczyn dość losowych nie stał się klasą pozytywną (tj. spółkami, które zamknęły działalność).\n",
    "\n",
    "Dla uproszczenia w tym i dalszych zadaniach skorzystamy z funkcji `assess_rf_performance()`, żeby łatwo sprawdzać AUROC i F1-score klasyfikatorów.\n",
    "\n",
    "Najpierw zastosujemy algorytm Edited Nearest Neighbors (ENN) z domyślnymi parametrami: \n",
    "- `k=3`\n",
    "- `kind_sel=\"all\"` (wszyscy sąsiedzi muszą być z klasy dominującej, aby punkt pozostał w zbiorze)\n",
    "\n",
    "Biblioteka imbalanced-learn opiera się o metodę `.fit_resample()`, która zwraca zmodyfikowany zbiór uczący (z usuniętymi/dodatkowymi próbkami). Implementuje także zmodyfikowany `Pipeline`, bo ten domyślny ze Scikit-learn nie wspierałby takiej metody. Warto pamiętać o tym, żeby tworzyć nowe zmienne dla zmodyfikowanych zbiorów, bo inaczej trzeba by wykonywać duże części notebooka na nowo."
   ]
  },
  {
   "cell_type": "code",
   "execution_count": 14,
   "metadata": {},
   "outputs": [],
   "source": [
    "def assess_rf_performance(estimator: RandomForestClassifier, X_test, y_test) -> None:\n",
    "    y_score = estimator.predict_proba(X_test)[:, 1]\n",
    "    y_pred = estimator.predict(X_test)\n",
    "    auroc = roc_auc_score(y_test, y_score)\n",
    "    f1 = f1_score(y_test, y_pred)\n",
    "\n",
    "    print(f\"AUROC: {100 * auroc:.2f}%\")\n",
    "    print(f\"F1-score: {100 * f1:.2f}%\")"
   ]
  },
  {
   "cell_type": "code",
   "execution_count": 15,
   "metadata": {},
   "outputs": [
    {
     "name": "stdout",
     "output_type": "stream",
     "text": [
      "Samples before ENN: 7877\n",
      "Samples after ENN: 6979\n",
      "AUROC: 85.25%\n",
      "F1-score: 14.49%\n"
     ]
    }
   ],
   "source": [
    "from imblearn.under_sampling import EditedNearestNeighbours\n",
    "\n",
    "\n",
    "enn = EditedNearestNeighbours()\n",
    "print(f\"Samples before ENN: {len(X_train)}\")\n",
    "X_train_enn, y_train_enn = enn.fit_resample(X_train, y_train)\n",
    "print(f\"Samples after ENN: {len(X_train_enn)}\")\n",
    "\n",
    "clf_rf_csl = RandomForestClassifier(class_weight=\"balanced\", random_state=0, n_jobs=-1)\n",
    "clf_rf_csl.fit(X_train_enn, y_train_enn)\n",
    "\n",
    "assess_rf_performance(clf_rf_csl, X_test, y_test)"
   ]
  },
  {
   "cell_type": "markdown",
   "metadata": {},
   "source": [
    "Wcześniej AUROC wynosiło 89.30%, a F1-score 28.00%. Mamy spadek obu metryk - niedobrze! Usunęliśmy jednak około 10% zbioru, może to za dużo?"
   ]
  },
  {
   "cell_type": "markdown",
   "metadata": {},
   "source": [
    "**Zadanie 3 (1.5 punktu)**\n",
    "\n",
    "1. Dokonaj tuningu hiperparametrów ENN:\n",
    "   - stwórz siatkę hiperparametrów: \n",
    "     - liczba sąsiadów: `[1, 3, 5]`\n",
    "     - tryb wyboru punktów: `[\"all\", \"mode\"]`\n",
    "   - przed użyciem `GridSearchCV` stwórz pipeline (ten z biblioteki imbalanced-learn), łączący ENN i Random Forest\n",
    "   - wybierz klasyfikator o najwyższym AUROC\n",
    "   - wykorzystaj 10-fold CV - przy zbiorach niezbalansowanych często daje to dokładniejsze oszacowanie\n",
    "   - pamiętaj, żeby podać, którego elementu pipeline'u dotyczą hiperparametry w siatce (np. `enn__n_neighbors`)\n",
    "2. Wypisz znalezione optymalne wartości hiperparametrów. Sprawdź wyniki na zbiorze testowym.\n",
    "3. Czy usuwamy punkty agresywniej, czy bardziej konwerwatywnie? Zweryfikuj swoją intuicję, sprawdzając liczność zbioru przed i po zastosowaniu ENN z optymalnymi hiperparametrami.\n",
    "4. Czy undersampling ostatecznie poprawił wynik? Czy twoim zdaniem warto tu zastosować taką technikę?"
   ]
  },
  {
   "cell_type": "code",
   "execution_count": 16,
   "metadata": {},
   "outputs": [
    {
     "data": {
      "text/html": [
       "<style>#sk-container-id-1 {\n",
       "  /* Definition of color scheme common for light and dark mode */\n",
       "  --sklearn-color-text: black;\n",
       "  --sklearn-color-line: gray;\n",
       "  /* Definition of color scheme for unfitted estimators */\n",
       "  --sklearn-color-unfitted-level-0: #fff5e6;\n",
       "  --sklearn-color-unfitted-level-1: #f6e4d2;\n",
       "  --sklearn-color-unfitted-level-2: #ffe0b3;\n",
       "  --sklearn-color-unfitted-level-3: chocolate;\n",
       "  /* Definition of color scheme for fitted estimators */\n",
       "  --sklearn-color-fitted-level-0: #f0f8ff;\n",
       "  --sklearn-color-fitted-level-1: #d4ebff;\n",
       "  --sklearn-color-fitted-level-2: #b3dbfd;\n",
       "  --sklearn-color-fitted-level-3: cornflowerblue;\n",
       "\n",
       "  /* Specific color for light theme */\n",
       "  --sklearn-color-text-on-default-background: var(--sg-text-color, var(--theme-code-foreground, var(--jp-content-font-color1, black)));\n",
       "  --sklearn-color-background: var(--sg-background-color, var(--theme-background, var(--jp-layout-color0, white)));\n",
       "  --sklearn-color-border-box: var(--sg-text-color, var(--theme-code-foreground, var(--jp-content-font-color1, black)));\n",
       "  --sklearn-color-icon: #696969;\n",
       "\n",
       "  @media (prefers-color-scheme: dark) {\n",
       "    /* Redefinition of color scheme for dark theme */\n",
       "    --sklearn-color-text-on-default-background: var(--sg-text-color, var(--theme-code-foreground, var(--jp-content-font-color1, white)));\n",
       "    --sklearn-color-background: var(--sg-background-color, var(--theme-background, var(--jp-layout-color0, #111)));\n",
       "    --sklearn-color-border-box: var(--sg-text-color, var(--theme-code-foreground, var(--jp-content-font-color1, white)));\n",
       "    --sklearn-color-icon: #878787;\n",
       "  }\n",
       "}\n",
       "\n",
       "#sk-container-id-1 {\n",
       "  color: var(--sklearn-color-text);\n",
       "}\n",
       "\n",
       "#sk-container-id-1 pre {\n",
       "  padding: 0;\n",
       "}\n",
       "\n",
       "#sk-container-id-1 input.sk-hidden--visually {\n",
       "  border: 0;\n",
       "  clip: rect(1px 1px 1px 1px);\n",
       "  clip: rect(1px, 1px, 1px, 1px);\n",
       "  height: 1px;\n",
       "  margin: -1px;\n",
       "  overflow: hidden;\n",
       "  padding: 0;\n",
       "  position: absolute;\n",
       "  width: 1px;\n",
       "}\n",
       "\n",
       "#sk-container-id-1 div.sk-dashed-wrapped {\n",
       "  border: 1px dashed var(--sklearn-color-line);\n",
       "  margin: 0 0.4em 0.5em 0.4em;\n",
       "  box-sizing: border-box;\n",
       "  padding-bottom: 0.4em;\n",
       "  background-color: var(--sklearn-color-background);\n",
       "}\n",
       "\n",
       "#sk-container-id-1 div.sk-container {\n",
       "  /* jupyter's `normalize.less` sets `[hidden] { display: none; }`\n",
       "     but bootstrap.min.css set `[hidden] { display: none !important; }`\n",
       "     so we also need the `!important` here to be able to override the\n",
       "     default hidden behavior on the sphinx rendered scikit-learn.org.\n",
       "     See: https://github.com/scikit-learn/scikit-learn/issues/21755 */\n",
       "  display: inline-block !important;\n",
       "  position: relative;\n",
       "}\n",
       "\n",
       "#sk-container-id-1 div.sk-text-repr-fallback {\n",
       "  display: none;\n",
       "}\n",
       "\n",
       "div.sk-parallel-item,\n",
       "div.sk-serial,\n",
       "div.sk-item {\n",
       "  /* draw centered vertical line to link estimators */\n",
       "  background-image: linear-gradient(var(--sklearn-color-text-on-default-background), var(--sklearn-color-text-on-default-background));\n",
       "  background-size: 2px 100%;\n",
       "  background-repeat: no-repeat;\n",
       "  background-position: center center;\n",
       "}\n",
       "\n",
       "/* Parallel-specific style estimator block */\n",
       "\n",
       "#sk-container-id-1 div.sk-parallel-item::after {\n",
       "  content: \"\";\n",
       "  width: 100%;\n",
       "  border-bottom: 2px solid var(--sklearn-color-text-on-default-background);\n",
       "  flex-grow: 1;\n",
       "}\n",
       "\n",
       "#sk-container-id-1 div.sk-parallel {\n",
       "  display: flex;\n",
       "  align-items: stretch;\n",
       "  justify-content: center;\n",
       "  background-color: var(--sklearn-color-background);\n",
       "  position: relative;\n",
       "}\n",
       "\n",
       "#sk-container-id-1 div.sk-parallel-item {\n",
       "  display: flex;\n",
       "  flex-direction: column;\n",
       "}\n",
       "\n",
       "#sk-container-id-1 div.sk-parallel-item:first-child::after {\n",
       "  align-self: flex-end;\n",
       "  width: 50%;\n",
       "}\n",
       "\n",
       "#sk-container-id-1 div.sk-parallel-item:last-child::after {\n",
       "  align-self: flex-start;\n",
       "  width: 50%;\n",
       "}\n",
       "\n",
       "#sk-container-id-1 div.sk-parallel-item:only-child::after {\n",
       "  width: 0;\n",
       "}\n",
       "\n",
       "/* Serial-specific style estimator block */\n",
       "\n",
       "#sk-container-id-1 div.sk-serial {\n",
       "  display: flex;\n",
       "  flex-direction: column;\n",
       "  align-items: center;\n",
       "  background-color: var(--sklearn-color-background);\n",
       "  padding-right: 1em;\n",
       "  padding-left: 1em;\n",
       "}\n",
       "\n",
       "\n",
       "/* Toggleable style: style used for estimator/Pipeline/ColumnTransformer box that is\n",
       "clickable and can be expanded/collapsed.\n",
       "- Pipeline and ColumnTransformer use this feature and define the default style\n",
       "- Estimators will overwrite some part of the style using the `sk-estimator` class\n",
       "*/\n",
       "\n",
       "/* Pipeline and ColumnTransformer style (default) */\n",
       "\n",
       "#sk-container-id-1 div.sk-toggleable {\n",
       "  /* Default theme specific background. It is overwritten whether we have a\n",
       "  specific estimator or a Pipeline/ColumnTransformer */\n",
       "  background-color: var(--sklearn-color-background);\n",
       "}\n",
       "\n",
       "/* Toggleable label */\n",
       "#sk-container-id-1 label.sk-toggleable__label {\n",
       "  cursor: pointer;\n",
       "  display: block;\n",
       "  width: 100%;\n",
       "  margin-bottom: 0;\n",
       "  padding: 0.5em;\n",
       "  box-sizing: border-box;\n",
       "  text-align: center;\n",
       "}\n",
       "\n",
       "#sk-container-id-1 label.sk-toggleable__label-arrow:before {\n",
       "  /* Arrow on the left of the label */\n",
       "  content: \"▸\";\n",
       "  float: left;\n",
       "  margin-right: 0.25em;\n",
       "  color: var(--sklearn-color-icon);\n",
       "}\n",
       "\n",
       "#sk-container-id-1 label.sk-toggleable__label-arrow:hover:before {\n",
       "  color: var(--sklearn-color-text);\n",
       "}\n",
       "\n",
       "/* Toggleable content - dropdown */\n",
       "\n",
       "#sk-container-id-1 div.sk-toggleable__content {\n",
       "  max-height: 0;\n",
       "  max-width: 0;\n",
       "  overflow: hidden;\n",
       "  text-align: left;\n",
       "  /* unfitted */\n",
       "  background-color: var(--sklearn-color-unfitted-level-0);\n",
       "}\n",
       "\n",
       "#sk-container-id-1 div.sk-toggleable__content.fitted {\n",
       "  /* fitted */\n",
       "  background-color: var(--sklearn-color-fitted-level-0);\n",
       "}\n",
       "\n",
       "#sk-container-id-1 div.sk-toggleable__content pre {\n",
       "  margin: 0.2em;\n",
       "  border-radius: 0.25em;\n",
       "  color: var(--sklearn-color-text);\n",
       "  /* unfitted */\n",
       "  background-color: var(--sklearn-color-unfitted-level-0);\n",
       "}\n",
       "\n",
       "#sk-container-id-1 div.sk-toggleable__content.fitted pre {\n",
       "  /* unfitted */\n",
       "  background-color: var(--sklearn-color-fitted-level-0);\n",
       "}\n",
       "\n",
       "#sk-container-id-1 input.sk-toggleable__control:checked~div.sk-toggleable__content {\n",
       "  /* Expand drop-down */\n",
       "  max-height: 200px;\n",
       "  max-width: 100%;\n",
       "  overflow: auto;\n",
       "}\n",
       "\n",
       "#sk-container-id-1 input.sk-toggleable__control:checked~label.sk-toggleable__label-arrow:before {\n",
       "  content: \"▾\";\n",
       "}\n",
       "\n",
       "/* Pipeline/ColumnTransformer-specific style */\n",
       "\n",
       "#sk-container-id-1 div.sk-label input.sk-toggleable__control:checked~label.sk-toggleable__label {\n",
       "  color: var(--sklearn-color-text);\n",
       "  background-color: var(--sklearn-color-unfitted-level-2);\n",
       "}\n",
       "\n",
       "#sk-container-id-1 div.sk-label.fitted input.sk-toggleable__control:checked~label.sk-toggleable__label {\n",
       "  background-color: var(--sklearn-color-fitted-level-2);\n",
       "}\n",
       "\n",
       "/* Estimator-specific style */\n",
       "\n",
       "/* Colorize estimator box */\n",
       "#sk-container-id-1 div.sk-estimator input.sk-toggleable__control:checked~label.sk-toggleable__label {\n",
       "  /* unfitted */\n",
       "  background-color: var(--sklearn-color-unfitted-level-2);\n",
       "}\n",
       "\n",
       "#sk-container-id-1 div.sk-estimator.fitted input.sk-toggleable__control:checked~label.sk-toggleable__label {\n",
       "  /* fitted */\n",
       "  background-color: var(--sklearn-color-fitted-level-2);\n",
       "}\n",
       "\n",
       "#sk-container-id-1 div.sk-label label.sk-toggleable__label,\n",
       "#sk-container-id-1 div.sk-label label {\n",
       "  /* The background is the default theme color */\n",
       "  color: var(--sklearn-color-text-on-default-background);\n",
       "}\n",
       "\n",
       "/* On hover, darken the color of the background */\n",
       "#sk-container-id-1 div.sk-label:hover label.sk-toggleable__label {\n",
       "  color: var(--sklearn-color-text);\n",
       "  background-color: var(--sklearn-color-unfitted-level-2);\n",
       "}\n",
       "\n",
       "/* Label box, darken color on hover, fitted */\n",
       "#sk-container-id-1 div.sk-label.fitted:hover label.sk-toggleable__label.fitted {\n",
       "  color: var(--sklearn-color-text);\n",
       "  background-color: var(--sklearn-color-fitted-level-2);\n",
       "}\n",
       "\n",
       "/* Estimator label */\n",
       "\n",
       "#sk-container-id-1 div.sk-label label {\n",
       "  font-family: monospace;\n",
       "  font-weight: bold;\n",
       "  display: inline-block;\n",
       "  line-height: 1.2em;\n",
       "}\n",
       "\n",
       "#sk-container-id-1 div.sk-label-container {\n",
       "  text-align: center;\n",
       "}\n",
       "\n",
       "/* Estimator-specific */\n",
       "#sk-container-id-1 div.sk-estimator {\n",
       "  font-family: monospace;\n",
       "  border: 1px dotted var(--sklearn-color-border-box);\n",
       "  border-radius: 0.25em;\n",
       "  box-sizing: border-box;\n",
       "  margin-bottom: 0.5em;\n",
       "  /* unfitted */\n",
       "  background-color: var(--sklearn-color-unfitted-level-0);\n",
       "}\n",
       "\n",
       "#sk-container-id-1 div.sk-estimator.fitted {\n",
       "  /* fitted */\n",
       "  background-color: var(--sklearn-color-fitted-level-0);\n",
       "}\n",
       "\n",
       "/* on hover */\n",
       "#sk-container-id-1 div.sk-estimator:hover {\n",
       "  /* unfitted */\n",
       "  background-color: var(--sklearn-color-unfitted-level-2);\n",
       "}\n",
       "\n",
       "#sk-container-id-1 div.sk-estimator.fitted:hover {\n",
       "  /* fitted */\n",
       "  background-color: var(--sklearn-color-fitted-level-2);\n",
       "}\n",
       "\n",
       "/* Specification for estimator info (e.g. \"i\" and \"?\") */\n",
       "\n",
       "/* Common style for \"i\" and \"?\" */\n",
       "\n",
       ".sk-estimator-doc-link,\n",
       "a:link.sk-estimator-doc-link,\n",
       "a:visited.sk-estimator-doc-link {\n",
       "  float: right;\n",
       "  font-size: smaller;\n",
       "  line-height: 1em;\n",
       "  font-family: monospace;\n",
       "  background-color: var(--sklearn-color-background);\n",
       "  border-radius: 1em;\n",
       "  height: 1em;\n",
       "  width: 1em;\n",
       "  text-decoration: none !important;\n",
       "  margin-left: 1ex;\n",
       "  /* unfitted */\n",
       "  border: var(--sklearn-color-unfitted-level-1) 1pt solid;\n",
       "  color: var(--sklearn-color-unfitted-level-1);\n",
       "}\n",
       "\n",
       ".sk-estimator-doc-link.fitted,\n",
       "a:link.sk-estimator-doc-link.fitted,\n",
       "a:visited.sk-estimator-doc-link.fitted {\n",
       "  /* fitted */\n",
       "  border: var(--sklearn-color-fitted-level-1) 1pt solid;\n",
       "  color: var(--sklearn-color-fitted-level-1);\n",
       "}\n",
       "\n",
       "/* On hover */\n",
       "div.sk-estimator:hover .sk-estimator-doc-link:hover,\n",
       ".sk-estimator-doc-link:hover,\n",
       "div.sk-label-container:hover .sk-estimator-doc-link:hover,\n",
       ".sk-estimator-doc-link:hover {\n",
       "  /* unfitted */\n",
       "  background-color: var(--sklearn-color-unfitted-level-3);\n",
       "  color: var(--sklearn-color-background);\n",
       "  text-decoration: none;\n",
       "}\n",
       "\n",
       "div.sk-estimator.fitted:hover .sk-estimator-doc-link.fitted:hover,\n",
       ".sk-estimator-doc-link.fitted:hover,\n",
       "div.sk-label-container:hover .sk-estimator-doc-link.fitted:hover,\n",
       ".sk-estimator-doc-link.fitted:hover {\n",
       "  /* fitted */\n",
       "  background-color: var(--sklearn-color-fitted-level-3);\n",
       "  color: var(--sklearn-color-background);\n",
       "  text-decoration: none;\n",
       "}\n",
       "\n",
       "/* Span, style for the box shown on hovering the info icon */\n",
       ".sk-estimator-doc-link span {\n",
       "  display: none;\n",
       "  z-index: 9999;\n",
       "  position: relative;\n",
       "  font-weight: normal;\n",
       "  right: .2ex;\n",
       "  padding: .5ex;\n",
       "  margin: .5ex;\n",
       "  width: min-content;\n",
       "  min-width: 20ex;\n",
       "  max-width: 50ex;\n",
       "  color: var(--sklearn-color-text);\n",
       "  box-shadow: 2pt 2pt 4pt #999;\n",
       "  /* unfitted */\n",
       "  background: var(--sklearn-color-unfitted-level-0);\n",
       "  border: .5pt solid var(--sklearn-color-unfitted-level-3);\n",
       "}\n",
       "\n",
       ".sk-estimator-doc-link.fitted span {\n",
       "  /* fitted */\n",
       "  background: var(--sklearn-color-fitted-level-0);\n",
       "  border: var(--sklearn-color-fitted-level-3);\n",
       "}\n",
       "\n",
       ".sk-estimator-doc-link:hover span {\n",
       "  display: block;\n",
       "}\n",
       "\n",
       "/* \"?\"-specific style due to the `<a>` HTML tag */\n",
       "\n",
       "#sk-container-id-1 a.estimator_doc_link {\n",
       "  float: right;\n",
       "  font-size: 1rem;\n",
       "  line-height: 1em;\n",
       "  font-family: monospace;\n",
       "  background-color: var(--sklearn-color-background);\n",
       "  border-radius: 1rem;\n",
       "  height: 1rem;\n",
       "  width: 1rem;\n",
       "  text-decoration: none;\n",
       "  /* unfitted */\n",
       "  color: var(--sklearn-color-unfitted-level-1);\n",
       "  border: var(--sklearn-color-unfitted-level-1) 1pt solid;\n",
       "}\n",
       "\n",
       "#sk-container-id-1 a.estimator_doc_link.fitted {\n",
       "  /* fitted */\n",
       "  border: var(--sklearn-color-fitted-level-1) 1pt solid;\n",
       "  color: var(--sklearn-color-fitted-level-1);\n",
       "}\n",
       "\n",
       "/* On hover */\n",
       "#sk-container-id-1 a.estimator_doc_link:hover {\n",
       "  /* unfitted */\n",
       "  background-color: var(--sklearn-color-unfitted-level-3);\n",
       "  color: var(--sklearn-color-background);\n",
       "  text-decoration: none;\n",
       "}\n",
       "\n",
       "#sk-container-id-1 a.estimator_doc_link.fitted:hover {\n",
       "  /* fitted */\n",
       "  background-color: var(--sklearn-color-fitted-level-3);\n",
       "}\n",
       "</style><div id=\"sk-container-id-1\" class=\"sk-top-container\"><div class=\"sk-text-repr-fallback\"><pre>GridSearchCV(cv=10,\n",
       "             estimator=Pipeline(steps=[(&#x27;enn&#x27;, EditedNearestNeighbours()),\n",
       "                                       (&#x27;clf_rf&#x27;, RandomForestClassifier())]),\n",
       "             n_jobs=-1,\n",
       "             param_grid={&#x27;clf_rf__class_weight&#x27;: [&#x27;balanced&#x27;],\n",
       "                         &#x27;clf_rf__n_jobs&#x27;: [-1], &#x27;clf_rf__random_state&#x27;: [0],\n",
       "                         &#x27;enn__kind_sel&#x27;: [&#x27;all&#x27;, &#x27;mode&#x27;],\n",
       "                         &#x27;enn__n_neighbors&#x27;: [1, 3, 5]},\n",
       "             scoring=&#x27;roc_auc&#x27;)</pre><b>In a Jupyter environment, please rerun this cell to show the HTML representation or trust the notebook. <br />On GitHub, the HTML representation is unable to render, please try loading this page with nbviewer.org.</b></div><div class=\"sk-container\" hidden><div class=\"sk-item sk-dashed-wrapped\"><div class=\"sk-label-container\"><div class=\"sk-label fitted sk-toggleable\"><input class=\"sk-toggleable__control sk-hidden--visually\" id=\"sk-estimator-id-1\" type=\"checkbox\" ><label for=\"sk-estimator-id-1\" class=\"sk-toggleable__label fitted sk-toggleable__label-arrow fitted\">&nbsp;&nbsp;GridSearchCV<a class=\"sk-estimator-doc-link fitted\" rel=\"noreferrer\" target=\"_blank\" href=\"https://scikit-learn.org/1.4/modules/generated/sklearn.model_selection.GridSearchCV.html\">?<span>Documentation for GridSearchCV</span></a><span class=\"sk-estimator-doc-link fitted\">i<span>Fitted</span></span></label><div class=\"sk-toggleable__content fitted\"><pre>GridSearchCV(cv=10,\n",
       "             estimator=Pipeline(steps=[(&#x27;enn&#x27;, EditedNearestNeighbours()),\n",
       "                                       (&#x27;clf_rf&#x27;, RandomForestClassifier())]),\n",
       "             n_jobs=-1,\n",
       "             param_grid={&#x27;clf_rf__class_weight&#x27;: [&#x27;balanced&#x27;],\n",
       "                         &#x27;clf_rf__n_jobs&#x27;: [-1], &#x27;clf_rf__random_state&#x27;: [0],\n",
       "                         &#x27;enn__kind_sel&#x27;: [&#x27;all&#x27;, &#x27;mode&#x27;],\n",
       "                         &#x27;enn__n_neighbors&#x27;: [1, 3, 5]},\n",
       "             scoring=&#x27;roc_auc&#x27;)</pre></div> </div></div><div class=\"sk-parallel\"><div class=\"sk-parallel-item\"><div class=\"sk-item\"><div class=\"sk-label-container\"><div class=\"sk-label fitted sk-toggleable\"><input class=\"sk-toggleable__control sk-hidden--visually\" id=\"sk-estimator-id-2\" type=\"checkbox\" ><label for=\"sk-estimator-id-2\" class=\"sk-toggleable__label fitted sk-toggleable__label-arrow fitted\">estimator: Pipeline</label><div class=\"sk-toggleable__content fitted\"><pre>Pipeline(steps=[(&#x27;enn&#x27;, EditedNearestNeighbours()),\n",
       "                (&#x27;clf_rf&#x27;, RandomForestClassifier())])</pre></div> </div></div><div class=\"sk-serial\"><div class=\"sk-item\"><div class=\"sk-serial\"><div class=\"sk-item\"><div class=\"sk-estimator fitted sk-toggleable\"><input class=\"sk-toggleable__control sk-hidden--visually\" id=\"sk-estimator-id-3\" type=\"checkbox\" ><label for=\"sk-estimator-id-3\" class=\"sk-toggleable__label fitted sk-toggleable__label-arrow fitted\">EditedNearestNeighbours</label><div class=\"sk-toggleable__content fitted\"><pre>EditedNearestNeighbours()</pre></div> </div></div><div class=\"sk-item\"><div class=\"sk-estimator fitted sk-toggleable\"><input class=\"sk-toggleable__control sk-hidden--visually\" id=\"sk-estimator-id-4\" type=\"checkbox\" ><label for=\"sk-estimator-id-4\" class=\"sk-toggleable__label fitted sk-toggleable__label-arrow fitted\">&nbsp;RandomForestClassifier<a class=\"sk-estimator-doc-link fitted\" rel=\"noreferrer\" target=\"_blank\" href=\"https://scikit-learn.org/1.4/modules/generated/sklearn.ensemble.RandomForestClassifier.html\">?<span>Documentation for RandomForestClassifier</span></a></label><div class=\"sk-toggleable__content fitted\"><pre>RandomForestClassifier()</pre></div> </div></div></div></div></div></div></div></div></div></div></div>"
      ],
      "text/plain": [
       "GridSearchCV(cv=10,\n",
       "             estimator=Pipeline(steps=[('enn', EditedNearestNeighbours()),\n",
       "                                       ('clf_rf', RandomForestClassifier())]),\n",
       "             n_jobs=-1,\n",
       "             param_grid={'clf_rf__class_weight': ['balanced'],\n",
       "                         'clf_rf__n_jobs': [-1], 'clf_rf__random_state': [0],\n",
       "                         'enn__kind_sel': ['all', 'mode'],\n",
       "                         'enn__n_neighbors': [1, 3, 5]},\n",
       "             scoring='roc_auc')"
      ]
     },
     "execution_count": 16,
     "metadata": {},
     "output_type": "execute_result"
    }
   ],
   "source": [
    "from imblearn.pipeline import Pipeline\n",
    "from sklearn.model_selection import GridSearchCV\n",
    "pipeline = Pipeline([\n",
    "    (\"enn\", EditedNearestNeighbours()),\n",
    "    (\"clf_rf\", RandomForestClassifier())\n",
    "])\n",
    "\n",
    "param_grid = {\n",
    "    \"enn__n_neighbors\" : [1, 3, 5],\n",
    "    \"enn__kind_sel\" : [\"all\", \"mode\"],\n",
    "    \"clf_rf__class_weight\" : [\"balanced\"],\n",
    "    \"clf_rf__random_state\" : [0],\n",
    "    \"clf_rf__n_jobs\" : [-1]\n",
    "    }\n",
    "\n",
    "clf_grid = GridSearchCV(\n",
    "    estimator=pipeline,\n",
    "    scoring=\"roc_auc\",\n",
    "    param_grid=param_grid,\n",
    "    n_jobs=-1,\n",
    "    cv=10\n",
    ")\n",
    "\n",
    "clf_grid.fit(X_train, y_train)\n"
   ]
  },
  {
   "cell_type": "code",
   "execution_count": 23,
   "metadata": {},
   "outputs": [
    {
     "name": "stdout",
     "output_type": "stream",
     "text": [
      "Best Parameters: {'clf_rf__class_weight': 'balanced', 'clf_rf__n_jobs': -1, 'clf_rf__random_state': 0, 'enn__kind_sel': 'mode', 'enn__n_neighbors': 3}\n",
      "  F1-score: 38.52%\n",
      "  Precision: 39.17%\n",
      "  Recall: 37.90%\n"
     ]
    }
   ],
   "source": [
    "y_pred = clf_grid.predict_proba(X_test)[:,1] >= optimal_thresh\n",
    "\n",
    "f1 = f1_score(y_test, y_pred)\n",
    "rf_csl_precision = precision_score(y_test, y_pred)\n",
    "rf_csl_recall = recall_score(y_test, y_pred)\n",
    "\n",
    "print(\"Best Parameters:\", clf_grid.best_params_)\n",
    "print(f\"  F1-score: {100 * f1:.2f}%\")\n",
    "print(f\"  Precision: {100 * rf_csl_precision:.2f}%\")\n",
    "print(f\"  Recall: {100 * rf_csl_recall:.2f}%\")\n"
   ]
  },
  {
   "cell_type": "code",
   "execution_count": 30,
   "metadata": {},
   "outputs": [
    {
     "name": "stdout",
     "output_type": "stream",
     "text": [
      "Samples before ENN: 7877\n",
      "Samples after ENN: 7810\n"
     ]
    }
   ],
   "source": [
    "enn_best = EditedNearestNeighbours(kind_sel='mode',\n",
    "                                   n_neighbors=3)\n",
    "X_after_enn, y_after_enn = enn_best.fit_resample(X_train, y_train)\n",
    "\n",
    "print(f\"Samples before ENN: {len(X_train)}\")\n",
    "print(f\"Samples after ENN: {len(X_after_enn)}\")"
   ]
  },
  {
   "cell_type": "markdown",
   "metadata": {},
   "source": [
    "//  KOMENTARZ\n",
    "\n",
    "Niestety undersampling nie sprawdził się. Wartości się pogoszyły. 'mod' jako strategia usuwania wskazuje że punkt wcale nie musiał mieć wszystkich sąsiadów takich samych jak on, więc do przewidzenia był fakt iż będzie łagodniejsze usuwanie"
   ]
  },
  {
   "cell_type": "markdown",
   "metadata": {},
   "source": [
    "Być może oversampling da nam większe korzyści, w końcu klasy pozytywnej jest naprawdę mało. Wypróbujmy najpierw SMOTE z domyślnymi hiperparametrami."
   ]
  },
  {
   "cell_type": "code",
   "execution_count": 31,
   "metadata": {},
   "outputs": [
    {
     "name": "stdout",
     "output_type": "stream",
     "text": [
      "Samples before SMOTE: 7877\n",
      "Samples after SMOTE: 15012\n",
      "AUROC: 84.99%\n",
      "F1-score: 34.55%\n"
     ]
    }
   ],
   "source": [
    "from imblearn.over_sampling import SMOTE\n",
    "\n",
    "\n",
    "smote = SMOTE(random_state=0)\n",
    "print(f\"Samples before SMOTE: {len(X_train)}\")\n",
    "X_train_smote, y_train_smote = smote.fit_resample(X_train, y_train)\n",
    "print(f\"Samples after SMOTE: {len(X_train_smote)}\")\n",
    "\n",
    "clf_rf_csl = RandomForestClassifier(class_weight=\"balanced\", random_state=0, n_jobs=-1)\n",
    "clf_rf_csl.fit(X_train_smote, y_train_smote)\n",
    "\n",
    "assess_rf_performance(clf_rf_csl, X_test, y_test)"
   ]
  },
  {
   "cell_type": "markdown",
   "metadata": {},
   "source": [
    "Jest definitywnie lepiej! Liczba przykładów z klasy pozytywnej wzrosła bardzo mocno, ale dzięki skalowalności lasu losowego nie jest to drastycznie odczuwalne. Za to F1-score bardzo wzrósł, bo zwiększyliśmy znacząco wagę klasy mniejszościowej, i to zagęszczając ją w przestrzeni zbioru danych. Dzięki temu i FP, i FN spadną.\n",
    "\n",
    "Imbalanced-learn domyślnie generuje tyle klasy mniejszościowej, żeby było jej tyle samo, co dominującej. Prawie zawsze powoduje to overfitting - zweryfikujmy to."
   ]
  },
  {
   "cell_type": "code",
   "execution_count": 32,
   "metadata": {},
   "outputs": [
    {
     "name": "stdout",
     "output_type": "stream",
     "text": [
      "Train metrics\n",
      "AUROC: 100.00%\n",
      "F1-score: 100.00%\n",
      "\n",
      "Test metrics\n",
      "AUROC: 84.99%\n",
      "F1-score: 34.55%\n"
     ]
    }
   ],
   "source": [
    "print(\"Train metrics\")\n",
    "assess_rf_performance(clf_rf_csl, X_train, y_train)\n",
    "print()\n",
    "print(\"Test metrics\")\n",
    "assess_rf_performance(clf_rf_csl, X_test, y_test)"
   ]
  },
  {
   "cell_type": "markdown",
   "metadata": {},
   "source": [
    "Jest to wręcz tragiczny overfitting! Definitywnie trzeba tutaj tuningu. Imbalanced-learn pozwala na to poprzez parametr `sampling_strategy`. Jeżeli jest to liczba, to oznacza stosunek liczby przykładów klasy mniejszościowej do liczby przykładów klasy większościowej po oversamplingu.\n",
    "\n",
    "Przykładowo, domyślne ustawienia odpowiadają `sampling_strategy=1`, czyli:\n",
    "\n",
    "$$\\large\n",
    "\\frac{n_{minority}}{n_{majority}} = 1 \\longrightarrow n_{minority} = n_{majority}\n",
    "$$\n",
    "\n",
    "Żeby zmniejszyć overfitting, trzeba generować mniej klasy pozytywnej, czyli zmniejszyć tę proporcję. Dodatkowo możemy zmienić wartość najbliższych sąsiadów - mniejsza liczba będzie skutkować generacją bardziej wiernych lokalnie próbek, a większa zwiększy różnorodność."
   ]
  },
  {
   "cell_type": "markdown",
   "metadata": {},
   "source": [
    "**Zadanie 4 (2 punkty)**\n",
    "\n",
    "Ze względu na koszt obliczeniowy połączenia 10-fold CV i metod opartych o sąsiedztwo można wykonać **step-wise tuning**, w którym robimy walidację skrośną po kolei dla parametrów, zamiast sprawdzać wszystkie kombinacje po kolei. Nie daje to gwarancji optymalności, ale typowo działa bardzo dobrze, a przy tym jest dużo szybsze. Jest to typowo stosowane w boostingu, który ma bardzo dużo hiperparametrów, ale także przy innych kosztownych algorytmach. Dobrze opisuje to [ten artykuł](https://medium.com/optuna/lightgbm-tuner-new-optuna-integration-for-hyperparameter-optimization-8b7095e99258).\n",
    "\n",
    "Dokonaj po kolei tuningu:\n",
    "- liczby sąsiadów w SMOTE w zakresie `[1, 2, 3, 4, 5]`\n",
    "- ilości klasy pozytywnej w zakresie od 0.25 do 1 z krokiem 0.25 (może się przydać `np.linspace()` albo  `np.arange()`)\n",
    "\n",
    "Zwróć uwagę na:\n",
    "- 10-fold CV\n",
    "- ustawienie `random_state=0`\n",
    "- przyda się ustawić `verbose=4`, żeby mieć logi z wykonania, bo będzie się to chwilę liczyć\n",
    "\n",
    "Sprawdź wyniki obu pipeline'ów (z osobna) na zbiorze treningowym oraz testowym. Wytrenuj także łączny pipeline, wykorzystując oba znalezione parametry naraz, i sprawdź jego wyniki.\n",
    "\n",
    "Pamiętaj, że nie trzeba przetrenowywać klasyfikatorów na finalnych hiperparametrach - obiekt `GridSearchCV` też ma metodę `.predict()`, w któryj pod spodem użyje modelu z najlepszymi znalezionymi wartościami hiperparametrów.\n",
    "\n",
    "Skomentuj:\n",
    "- czy wynik się poprawił?\n",
    "- czy zmniejszono lub wyeliminowano overfitting w którymś przypadku?\n",
    "- czy warto było tune'ować oba parametry?\n",
    "- czy połączenie parametrów poprawiło wynik?\n",
    "\n",
    "Oszacuj, ile wolniej wykonywałby się grid search na pełnej, kwadratowej siatce hiperparametrów. Oblicz liczbę modeli, którą trzeba by wytrenować w obu przypadkach (step-wise oraz na pełnej siatce) przy 10-fold CV, i przyjmij stały średni czas na jeden fold według logów z treningu."
   ]
  },
  {
   "cell_type": "code",
   "execution_count": 35,
   "metadata": {
    "scrolled": true
   },
   "outputs": [
    {
     "name": "stdout",
     "output_type": "stream",
     "text": [
      "Fitting 10 folds for each of 5 candidates, totalling 50 fits\n",
      "[CV 1/10] END clf__class_weight=balanced, clf__n_jobs=-1, clf__random_state=0, smote__k_neighbors=1, smote__random_state=0, smote__sampling_strategy=0.25;, score=0.863 total time=   3.1s\n",
      "[CV 2/10] END clf__class_weight=balanced, clf__n_jobs=-1, clf__random_state=0, smote__k_neighbors=1, smote__random_state=0, smote__sampling_strategy=0.25;, score=0.834 total time=   1.1s\n",
      "[CV 3/10] END clf__class_weight=balanced, clf__n_jobs=-1, clf__random_state=0, smote__k_neighbors=1, smote__random_state=0, smote__sampling_strategy=0.25;, score=0.799 total time=   1.0s\n",
      "[CV 4/10] END clf__class_weight=balanced, clf__n_jobs=-1, clf__random_state=0, smote__k_neighbors=1, smote__random_state=0, smote__sampling_strategy=0.25;, score=0.897 total time=   1.0s\n",
      "[CV 5/10] END clf__class_weight=balanced, clf__n_jobs=-1, clf__random_state=0, smote__k_neighbors=1, smote__random_state=0, smote__sampling_strategy=0.25;, score=0.840 total time=   1.0s\n",
      "[CV 6/10] END clf__class_weight=balanced, clf__n_jobs=-1, clf__random_state=0, smote__k_neighbors=1, smote__random_state=0, smote__sampling_strategy=0.25;, score=0.880 total time=   1.0s\n",
      "[CV 7/10] END clf__class_weight=balanced, clf__n_jobs=-1, clf__random_state=0, smote__k_neighbors=1, smote__random_state=0, smote__sampling_strategy=0.25;, score=0.873 total time=   1.0s\n",
      "[CV 8/10] END clf__class_weight=balanced, clf__n_jobs=-1, clf__random_state=0, smote__k_neighbors=1, smote__random_state=0, smote__sampling_strategy=0.25;, score=0.883 total time=   1.0s\n",
      "[CV 9/10] END clf__class_weight=balanced, clf__n_jobs=-1, clf__random_state=0, smote__k_neighbors=1, smote__random_state=0, smote__sampling_strategy=0.25;, score=0.821 total time=   1.0s\n",
      "[CV 10/10] END clf__class_weight=balanced, clf__n_jobs=-1, clf__random_state=0, smote__k_neighbors=1, smote__random_state=0, smote__sampling_strategy=0.25;, score=0.769 total time=   1.0s\n",
      "[CV 1/10] END clf__class_weight=balanced, clf__n_jobs=-1, clf__random_state=0, smote__k_neighbors=2, smote__random_state=0, smote__sampling_strategy=0.25;, score=0.855 total time=   1.0s\n",
      "[CV 2/10] END clf__class_weight=balanced, clf__n_jobs=-1, clf__random_state=0, smote__k_neighbors=2, smote__random_state=0, smote__sampling_strategy=0.25;, score=0.833 total time=   1.0s\n",
      "[CV 3/10] END clf__class_weight=balanced, clf__n_jobs=-1, clf__random_state=0, smote__k_neighbors=2, smote__random_state=0, smote__sampling_strategy=0.25;, score=0.819 total time=   1.0s\n",
      "[CV 4/10] END clf__class_weight=balanced, clf__n_jobs=-1, clf__random_state=0, smote__k_neighbors=2, smote__random_state=0, smote__sampling_strategy=0.25;, score=0.877 total time=   1.0s\n",
      "[CV 5/10] END clf__class_weight=balanced, clf__n_jobs=-1, clf__random_state=0, smote__k_neighbors=2, smote__random_state=0, smote__sampling_strategy=0.25;, score=0.838 total time=   1.0s\n",
      "[CV 6/10] END clf__class_weight=balanced, clf__n_jobs=-1, clf__random_state=0, smote__k_neighbors=2, smote__random_state=0, smote__sampling_strategy=0.25;, score=0.865 total time=   1.0s\n",
      "[CV 7/10] END clf__class_weight=balanced, clf__n_jobs=-1, clf__random_state=0, smote__k_neighbors=2, smote__random_state=0, smote__sampling_strategy=0.25;, score=0.882 total time=   1.0s\n",
      "[CV 8/10] END clf__class_weight=balanced, clf__n_jobs=-1, clf__random_state=0, smote__k_neighbors=2, smote__random_state=0, smote__sampling_strategy=0.25;, score=0.870 total time=   1.0s\n",
      "[CV 9/10] END clf__class_weight=balanced, clf__n_jobs=-1, clf__random_state=0, smote__k_neighbors=2, smote__random_state=0, smote__sampling_strategy=0.25;, score=0.838 total time=   1.0s\n",
      "[CV 10/10] END clf__class_weight=balanced, clf__n_jobs=-1, clf__random_state=0, smote__k_neighbors=2, smote__random_state=0, smote__sampling_strategy=0.25;, score=0.738 total time=   1.0s\n",
      "[CV 1/10] END clf__class_weight=balanced, clf__n_jobs=-1, clf__random_state=0, smote__k_neighbors=3, smote__random_state=0, smote__sampling_strategy=0.25;, score=0.868 total time=   1.0s\n",
      "[CV 2/10] END clf__class_weight=balanced, clf__n_jobs=-1, clf__random_state=0, smote__k_neighbors=3, smote__random_state=0, smote__sampling_strategy=0.25;, score=0.819 total time=   1.0s\n",
      "[CV 3/10] END clf__class_weight=balanced, clf__n_jobs=-1, clf__random_state=0, smote__k_neighbors=3, smote__random_state=0, smote__sampling_strategy=0.25;, score=0.783 total time=   1.0s\n",
      "[CV 4/10] END clf__class_weight=balanced, clf__n_jobs=-1, clf__random_state=0, smote__k_neighbors=3, smote__random_state=0, smote__sampling_strategy=0.25;, score=0.886 total time=   1.0s\n",
      "[CV 5/10] END clf__class_weight=balanced, clf__n_jobs=-1, clf__random_state=0, smote__k_neighbors=3, smote__random_state=0, smote__sampling_strategy=0.25;, score=0.836 total time=   1.0s\n",
      "[CV 6/10] END clf__class_weight=balanced, clf__n_jobs=-1, clf__random_state=0, smote__k_neighbors=3, smote__random_state=0, smote__sampling_strategy=0.25;, score=0.858 total time=   1.0s\n",
      "[CV 7/10] END clf__class_weight=balanced, clf__n_jobs=-1, clf__random_state=0, smote__k_neighbors=3, smote__random_state=0, smote__sampling_strategy=0.25;, score=0.887 total time=   1.0s\n",
      "[CV 8/10] END clf__class_weight=balanced, clf__n_jobs=-1, clf__random_state=0, smote__k_neighbors=3, smote__random_state=0, smote__sampling_strategy=0.25;, score=0.879 total time=   1.0s\n",
      "[CV 9/10] END clf__class_weight=balanced, clf__n_jobs=-1, clf__random_state=0, smote__k_neighbors=3, smote__random_state=0, smote__sampling_strategy=0.25;, score=0.845 total time=   1.0s\n",
      "[CV 10/10] END clf__class_weight=balanced, clf__n_jobs=-1, clf__random_state=0, smote__k_neighbors=3, smote__random_state=0, smote__sampling_strategy=0.25;, score=0.757 total time=   1.0s\n",
      "[CV 1/10] END clf__class_weight=balanced, clf__n_jobs=-1, clf__random_state=0, smote__k_neighbors=4, smote__random_state=0, smote__sampling_strategy=0.25;, score=0.862 total time=   1.0s\n",
      "[CV 2/10] END clf__class_weight=balanced, clf__n_jobs=-1, clf__random_state=0, smote__k_neighbors=4, smote__random_state=0, smote__sampling_strategy=0.25;, score=0.824 total time=   1.0s\n",
      "[CV 3/10] END clf__class_weight=balanced, clf__n_jobs=-1, clf__random_state=0, smote__k_neighbors=4, smote__random_state=0, smote__sampling_strategy=0.25;, score=0.775 total time=   1.0s\n",
      "[CV 4/10] END clf__class_weight=balanced, clf__n_jobs=-1, clf__random_state=0, smote__k_neighbors=4, smote__random_state=0, smote__sampling_strategy=0.25;, score=0.884 total time=   1.0s\n",
      "[CV 5/10] END clf__class_weight=balanced, clf__n_jobs=-1, clf__random_state=0, smote__k_neighbors=4, smote__random_state=0, smote__sampling_strategy=0.25;, score=0.844 total time=   1.0s\n",
      "[CV 6/10] END clf__class_weight=balanced, clf__n_jobs=-1, clf__random_state=0, smote__k_neighbors=4, smote__random_state=0, smote__sampling_strategy=0.25;, score=0.863 total time=   1.0s\n",
      "[CV 7/10] END clf__class_weight=balanced, clf__n_jobs=-1, clf__random_state=0, smote__k_neighbors=4, smote__random_state=0, smote__sampling_strategy=0.25;, score=0.887 total time=   1.0s\n",
      "[CV 8/10] END clf__class_weight=balanced, clf__n_jobs=-1, clf__random_state=0, smote__k_neighbors=4, smote__random_state=0, smote__sampling_strategy=0.25;, score=0.879 total time=   1.0s\n",
      "[CV 9/10] END clf__class_weight=balanced, clf__n_jobs=-1, clf__random_state=0, smote__k_neighbors=4, smote__random_state=0, smote__sampling_strategy=0.25;, score=0.825 total time=   1.0s\n",
      "[CV 10/10] END clf__class_weight=balanced, clf__n_jobs=-1, clf__random_state=0, smote__k_neighbors=4, smote__random_state=0, smote__sampling_strategy=0.25;, score=0.746 total time=   1.0s\n",
      "[CV 1/10] END clf__class_weight=balanced, clf__n_jobs=-1, clf__random_state=0, smote__k_neighbors=5, smote__random_state=0, smote__sampling_strategy=0.25;, score=0.850 total time=   1.0s\n",
      "[CV 2/10] END clf__class_weight=balanced, clf__n_jobs=-1, clf__random_state=0, smote__k_neighbors=5, smote__random_state=0, smote__sampling_strategy=0.25;, score=0.831 total time=   1.0s\n",
      "[CV 3/10] END clf__class_weight=balanced, clf__n_jobs=-1, clf__random_state=0, smote__k_neighbors=5, smote__random_state=0, smote__sampling_strategy=0.25;, score=0.776 total time=   1.0s\n",
      "[CV 4/10] END clf__class_weight=balanced, clf__n_jobs=-1, clf__random_state=0, smote__k_neighbors=5, smote__random_state=0, smote__sampling_strategy=0.25;, score=0.898 total time=   1.0s\n",
      "[CV 5/10] END clf__class_weight=balanced, clf__n_jobs=-1, clf__random_state=0, smote__k_neighbors=5, smote__random_state=0, smote__sampling_strategy=0.25;, score=0.830 total time=   1.0s\n",
      "[CV 6/10] END clf__class_weight=balanced, clf__n_jobs=-1, clf__random_state=0, smote__k_neighbors=5, smote__random_state=0, smote__sampling_strategy=0.25;, score=0.879 total time=   1.0s\n",
      "[CV 7/10] END clf__class_weight=balanced, clf__n_jobs=-1, clf__random_state=0, smote__k_neighbors=5, smote__random_state=0, smote__sampling_strategy=0.25;, score=0.876 total time=   1.0s\n",
      "[CV 8/10] END clf__class_weight=balanced, clf__n_jobs=-1, clf__random_state=0, smote__k_neighbors=5, smote__random_state=0, smote__sampling_strategy=0.25;, score=0.880 total time=   1.0s\n",
      "[CV 9/10] END clf__class_weight=balanced, clf__n_jobs=-1, clf__random_state=0, smote__k_neighbors=5, smote__random_state=0, smote__sampling_strategy=0.25;, score=0.825 total time=   1.0s\n",
      "[CV 10/10] END clf__class_weight=balanced, clf__n_jobs=-1, clf__random_state=0, smote__k_neighbors=5, smote__random_state=0, smote__sampling_strategy=0.25;, score=0.739 total time=   1.1s\n",
      "{'clf__class_weight': 'balanced', 'clf__n_jobs': -1, 'clf__random_state': 0, 'smote__k_neighbors': 1, 'smote__random_state': 0, 'smote__sampling_strategy': 0.25}\n",
      "TIME: 0.9718718449274699 min\n",
      "Train metrics\n",
      "AUROC: 100.00%\n",
      "F1-score: 100.00%\n",
      "\n",
      "Test metrics\n",
      "AUROC: 85.22%\n",
      "F1-score: 28.21%\n",
      "Fitting 10 folds for each of 4 candidates, totalling 40 fits\n",
      "[CV 1/10] END clf__class_weight=balanced, clf__n_jobs=-1, clf__random_state=0, smote__k_neighbors=2, smote__random_state=0, smote__sampling_strategy=0.25;, score=0.855 total time=   1.0s\n",
      "[CV 2/10] END clf__class_weight=balanced, clf__n_jobs=-1, clf__random_state=0, smote__k_neighbors=2, smote__random_state=0, smote__sampling_strategy=0.25;, score=0.833 total time=   1.0s\n",
      "[CV 3/10] END clf__class_weight=balanced, clf__n_jobs=-1, clf__random_state=0, smote__k_neighbors=2, smote__random_state=0, smote__sampling_strategy=0.25;, score=0.819 total time=   1.0s\n",
      "[CV 4/10] END clf__class_weight=balanced, clf__n_jobs=-1, clf__random_state=0, smote__k_neighbors=2, smote__random_state=0, smote__sampling_strategy=0.25;, score=0.877 total time=   1.0s\n",
      "[CV 5/10] END clf__class_weight=balanced, clf__n_jobs=-1, clf__random_state=0, smote__k_neighbors=2, smote__random_state=0, smote__sampling_strategy=0.25;, score=0.838 total time=   1.0s\n",
      "[CV 6/10] END clf__class_weight=balanced, clf__n_jobs=-1, clf__random_state=0, smote__k_neighbors=2, smote__random_state=0, smote__sampling_strategy=0.25;, score=0.865 total time=   1.0s\n",
      "[CV 7/10] END clf__class_weight=balanced, clf__n_jobs=-1, clf__random_state=0, smote__k_neighbors=2, smote__random_state=0, smote__sampling_strategy=0.25;, score=0.882 total time=   1.0s\n",
      "[CV 8/10] END clf__class_weight=balanced, clf__n_jobs=-1, clf__random_state=0, smote__k_neighbors=2, smote__random_state=0, smote__sampling_strategy=0.25;, score=0.870 total time=   1.0s\n",
      "[CV 9/10] END clf__class_weight=balanced, clf__n_jobs=-1, clf__random_state=0, smote__k_neighbors=2, smote__random_state=0, smote__sampling_strategy=0.25;, score=0.838 total time=   1.0s\n",
      "[CV 10/10] END clf__class_weight=balanced, clf__n_jobs=-1, clf__random_state=0, smote__k_neighbors=2, smote__random_state=0, smote__sampling_strategy=0.25;, score=0.738 total time=   1.0s\n",
      "[CV 1/10] END clf__class_weight=balanced, clf__n_jobs=-1, clf__random_state=0, smote__k_neighbors=2, smote__random_state=0, smote__sampling_strategy=0.5;, score=0.852 total time=   1.2s\n",
      "[CV 2/10] END clf__class_weight=balanced, clf__n_jobs=-1, clf__random_state=0, smote__k_neighbors=2, smote__random_state=0, smote__sampling_strategy=0.5;, score=0.819 total time=   1.3s\n",
      "[CV 3/10] END clf__class_weight=balanced, clf__n_jobs=-1, clf__random_state=0, smote__k_neighbors=2, smote__random_state=0, smote__sampling_strategy=0.5;, score=0.779 total time=   1.2s\n",
      "[CV 4/10] END clf__class_weight=balanced, clf__n_jobs=-1, clf__random_state=0, smote__k_neighbors=2, smote__random_state=0, smote__sampling_strategy=0.5;, score=0.886 total time=   1.2s\n",
      "[CV 5/10] END clf__class_weight=balanced, clf__n_jobs=-1, clf__random_state=0, smote__k_neighbors=2, smote__random_state=0, smote__sampling_strategy=0.5;, score=0.847 total time=   1.2s\n",
      "[CV 6/10] END clf__class_weight=balanced, clf__n_jobs=-1, clf__random_state=0, smote__k_neighbors=2, smote__random_state=0, smote__sampling_strategy=0.5;, score=0.861 total time=   1.2s\n",
      "[CV 7/10] END clf__class_weight=balanced, clf__n_jobs=-1, clf__random_state=0, smote__k_neighbors=2, smote__random_state=0, smote__sampling_strategy=0.5;, score=0.886 total time=   1.2s\n",
      "[CV 8/10] END clf__class_weight=balanced, clf__n_jobs=-1, clf__random_state=0, smote__k_neighbors=2, smote__random_state=0, smote__sampling_strategy=0.5;, score=0.870 total time=   1.2s\n",
      "[CV 9/10] END clf__class_weight=balanced, clf__n_jobs=-1, clf__random_state=0, smote__k_neighbors=2, smote__random_state=0, smote__sampling_strategy=0.5;, score=0.825 total time=   1.9s\n",
      "[CV 10/10] END clf__class_weight=balanced, clf__n_jobs=-1, clf__random_state=0, smote__k_neighbors=2, smote__random_state=0, smote__sampling_strategy=0.5;, score=0.754 total time=   1.4s\n",
      "[CV 1/10] END clf__class_weight=balanced, clf__n_jobs=-1, clf__random_state=0, smote__k_neighbors=2, smote__random_state=0, smote__sampling_strategy=0.75;, score=0.857 total time=   1.6s\n",
      "[CV 2/10] END clf__class_weight=balanced, clf__n_jobs=-1, clf__random_state=0, smote__k_neighbors=2, smote__random_state=0, smote__sampling_strategy=0.75;, score=0.802 total time=   1.7s\n",
      "[CV 3/10] END clf__class_weight=balanced, clf__n_jobs=-1, clf__random_state=0, smote__k_neighbors=2, smote__random_state=0, smote__sampling_strategy=0.75;, score=0.775 total time=   1.5s\n",
      "[CV 4/10] END clf__class_weight=balanced, clf__n_jobs=-1, clf__random_state=0, smote__k_neighbors=2, smote__random_state=0, smote__sampling_strategy=0.75;, score=0.885 total time=   1.5s\n",
      "[CV 5/10] END clf__class_weight=balanced, clf__n_jobs=-1, clf__random_state=0, smote__k_neighbors=2, smote__random_state=0, smote__sampling_strategy=0.75;, score=0.806 total time=   1.5s\n",
      "[CV 6/10] END clf__class_weight=balanced, clf__n_jobs=-1, clf__random_state=0, smote__k_neighbors=2, smote__random_state=0, smote__sampling_strategy=0.75;, score=0.856 total time=   1.5s\n",
      "[CV 7/10] END clf__class_weight=balanced, clf__n_jobs=-1, clf__random_state=0, smote__k_neighbors=2, smote__random_state=0, smote__sampling_strategy=0.75;, score=0.884 total time=   1.4s\n",
      "[CV 8/10] END clf__class_weight=balanced, clf__n_jobs=-1, clf__random_state=0, smote__k_neighbors=2, smote__random_state=0, smote__sampling_strategy=0.75;, score=0.874 total time=   1.5s\n",
      "[CV 9/10] END clf__class_weight=balanced, clf__n_jobs=-1, clf__random_state=0, smote__k_neighbors=2, smote__random_state=0, smote__sampling_strategy=0.75;, score=0.811 total time=   1.4s\n",
      "[CV 10/10] END clf__class_weight=balanced, clf__n_jobs=-1, clf__random_state=0, smote__k_neighbors=2, smote__random_state=0, smote__sampling_strategy=0.75;, score=0.759 total time=   1.4s\n",
      "[CV 1/10] END clf__class_weight=balanced, clf__n_jobs=-1, clf__random_state=0, smote__k_neighbors=2, smote__random_state=0, smote__sampling_strategy=1.0;, score=0.846 total time=   1.6s\n",
      "[CV 2/10] END clf__class_weight=balanced, clf__n_jobs=-1, clf__random_state=0, smote__k_neighbors=2, smote__random_state=0, smote__sampling_strategy=1.0;, score=0.808 total time=   1.6s\n",
      "[CV 3/10] END clf__class_weight=balanced, clf__n_jobs=-1, clf__random_state=0, smote__k_neighbors=2, smote__random_state=0, smote__sampling_strategy=1.0;, score=0.801 total time=   1.6s\n",
      "[CV 4/10] END clf__class_weight=balanced, clf__n_jobs=-1, clf__random_state=0, smote__k_neighbors=2, smote__random_state=0, smote__sampling_strategy=1.0;, score=0.878 total time=   1.6s\n",
      "[CV 5/10] END clf__class_weight=balanced, clf__n_jobs=-1, clf__random_state=0, smote__k_neighbors=2, smote__random_state=0, smote__sampling_strategy=1.0;, score=0.829 total time=   1.6s\n",
      "[CV 6/10] END clf__class_weight=balanced, clf__n_jobs=-1, clf__random_state=0, smote__k_neighbors=2, smote__random_state=0, smote__sampling_strategy=1.0;, score=0.865 total time=   1.6s\n",
      "[CV 7/10] END clf__class_weight=balanced, clf__n_jobs=-1, clf__random_state=0, smote__k_neighbors=2, smote__random_state=0, smote__sampling_strategy=1.0;, score=0.880 total time=   1.6s\n",
      "[CV 8/10] END clf__class_weight=balanced, clf__n_jobs=-1, clf__random_state=0, smote__k_neighbors=2, smote__random_state=0, smote__sampling_strategy=1.0;, score=0.873 total time=   1.6s\n",
      "[CV 9/10] END clf__class_weight=balanced, clf__n_jobs=-1, clf__random_state=0, smote__k_neighbors=2, smote__random_state=0, smote__sampling_strategy=1.0;, score=0.824 total time=   1.6s\n",
      "[CV 10/10] END clf__class_weight=balanced, clf__n_jobs=-1, clf__random_state=0, smote__k_neighbors=2, smote__random_state=0, smote__sampling_strategy=1.0;, score=0.723 total time=   1.6s\n",
      "{'clf__class_weight': 'balanced', 'clf__n_jobs': -1, 'clf__random_state': 0, 'smote__k_neighbors': 2, 'smote__random_state': 0, 'smote__sampling_strategy': 0.25}\n",
      "TIME: 0.9877984722455343 min\n",
      "Train metrics\n",
      "AUROC: 100.00%\n",
      "F1-score: 100.00%\n",
      "\n",
      "Test metrics\n",
      "AUROC: 84.48%\n",
      "F1-score: 28.93%\n"
     ]
    }
   ],
   "source": [
    "from time import time\n",
    "pipeline = Pipeline([\n",
    "    (\"smote\", SMOTE()),\n",
    "    (\"clf\", RandomForestClassifier())\n",
    "])\n",
    "\n",
    "param_grid = {\n",
    "    \"smote__k_neighbors\" : list(range(1,6)),\n",
    "    \"smote__sampling_strategy\" : [0.25],\n",
    "    \"smote__random_state\" : [0],\n",
    "    \"clf__class_weight\" : [\"balanced\"],\n",
    "    \"clf__random_state\" : [0],\n",
    "    \"clf__n_jobs\" : [-1]\n",
    "}\n",
    "\n",
    "params = {\n",
    "    \"estimator\": pipeline,\n",
    "    \"scoring\": \"roc_auc\",\n",
    "    \"param_grid\": param_grid,\n",
    "    \"verbose\": 4,\n",
    "    \"cv\": 10\n",
    "}\n",
    "def train_grid(params):\n",
    "    clf_grid = GridSearchCV(**params)\n",
    "    t = time()\n",
    "    clf_grid.fit(X_train, y_train)\n",
    "    t2 = time()\n",
    "    print(clf_grid.best_params_)\n",
    "    print(f\"TIME: {(t2 - t)/60} min\")\n",
    "    print(\"Train metrics\")\n",
    "    assess_rf_performance(clf_grid, X_train, y_train)\n",
    "    print()\n",
    "    print(\"Test metrics\")\n",
    "    assess_rf_performance(clf_grid, X_test, y_test)\n",
    "\n",
    "train_grid(params)\n",
    "\n",
    "param_grid[\"smote__k_neighbors\"] = [2]\n",
    "param_grid[ \"smote__sampling_strategy\"] = np.arange(0.25, 1.01, 0.25)\n",
    "\n",
    "train_grid(params)\n"
   ]
  },
  {
   "cell_type": "code",
   "execution_count": 37,
   "metadata": {},
   "outputs": [
    {
     "name": "stdout",
     "output_type": "stream",
     "text": [
      "AUROC: 85.22%\n",
      "F1-score: 28.21%\n"
     ]
    }
   ],
   "source": [
    "smote_best = {\n",
    "    \"k_neighbors\" : 1,\n",
    "    \"sampling_strategy\" : 0.25,\n",
    "    \"random_state\" : 0,\n",
    "}\n",
    "\n",
    "pipeline = Pipeline([\n",
    "    (\"smote\", SMOTE(**smote_best)),\n",
    "    (\"clf\", RandomForestClassifier(class_weight=\"balanced\", \n",
    "                                   random_state=0, \n",
    "                                   n_jobs=-1))\n",
    "])\n",
    "\n",
    "pipeline.fit(X_train, y_train)\n",
    "assess_rf_performance(pipeline, X_test, y_test)"
   ]
  },
  {
   "cell_type": "markdown",
   "metadata": {},
   "source": [
    "// KOMENTARZ\n",
    "\n",
    "Wynik AUROC się lekko poprawił, natomiast f1 zmalało. Dalej występuje mocny overfitting bez względu na optymalizowany parametr. Przypadkiem okazało się że tuning drugiego parametru był nie dokońca potrzebny, gdyż ustawiłem `sampling_strategy=0.25` jako domyślne w pierwszym tuningu sąsiadów. Połączenie parametrów nie poprawiło zatem wyniku."
   ]
  },
  {
   "cell_type": "markdown",
   "metadata": {},
   "source": [
    "// Obliczenia:\n",
    "\n",
    "Biorąc pod uwagę, że dla różnych wartości sąsiadów wychodził bardzo podobny czas (1s)\n",
    "natomiast przy zmianie strategii zwiększał się czas (0.25~1s, 0.5~1.2s, 0.75~1.5s, 1~1.6s) Można założyć, że mamy w takim wypadku różnicę czasu tylko dla strategii.\n",
    "\n",
    "Dla każdej wartości sąsiadów (5) było 10 foldów, tak więc dla 4 różnych czasów mamy:\n",
    "\n",
    "$50 * 1 + ... + 50 * 1.6 = $\n",
    "\n",
    "$ 50 * (1 + 1.2 + 1.5 + 1.6) =  $\n",
    "\n",
    "$ 5 * 10 * (1 + 1.2 + 1.5 + 1.6) = $\n",
    "\n",
    "$ 5 $ * czas drugiego tuningu"
   ]
  },
  {
   "cell_type": "markdown",
   "metadata": {},
   "source": [
    "Ostatnią rzeczą, którą możemy tu zrobić, jest połączenie naszych technik. Imbalanced-learn implementuje wygodne połączenie oversamplingu z undersamplingu w module `combine`, np. klasą `SMOTEENN`."
   ]
  },
  {
   "cell_type": "code",
   "execution_count": 38,
   "metadata": {},
   "outputs": [
    {
     "name": "stdout",
     "output_type": "stream",
     "text": [
      "AUROC: 99.77%\n",
      "F1-score: 61.33%\n",
      "AUROC: 82.57%\n",
      "F1-score: 30.03%\n"
     ]
    }
   ],
   "source": [
    "from imblearn.combine import SMOTEENN\n",
    "\n",
    "\n",
    "smote_enn_pipeline = Pipeline(\n",
    "    [\n",
    "        (\"smoteenn\", SMOTEENN(random_state=0)),\n",
    "        (\n",
    "            \"rf\",\n",
    "            RandomForestClassifier(class_weight=\"balanced\", random_state=0, n_jobs=-1),\n",
    "        ),\n",
    "    ]\n",
    ")\n",
    "smote_enn_pipeline.fit(X_train, y_train)\n",
    "\n",
    "assess_rf_performance(smote_enn_pipeline, X_train, y_train)\n",
    "assess_rf_performance(smote_enn_pipeline, X_test, y_test)"
   ]
  },
  {
   "cell_type": "markdown",
   "metadata": {},
   "source": [
    "Przy domyślnych hiperparametrach, połączenie SMOTE i ENN daje gorsze wyniki niż sam SMOTE. Może jednak to kwestia tuningu?"
   ]
  },
  {
   "cell_type": "markdown",
   "metadata": {},
   "source": [
    "**Zadanie 5 (0.5 punktu)**\n",
    "\n",
    "Wytrenuj SMOTEENN, wykorzystując optymalne hiperparametry znalezione podczas tuningu ENN oraz SMOTE. Sprawdź wyniki na zbiorze testowym.\n",
    "\n",
    "Porównaj wyniki ENN, SMOTE oraz ich połączenia. Które rozwiązanie wybrałbyś w praktyce i dlaczego?"
   ]
  },
  {
   "cell_type": "code",
   "execution_count": 44,
   "metadata": {},
   "outputs": [
    {
     "data": {
      "text/plain": [
       "{'kind_sel': 'mode', 'n_neighbors': 3}"
      ]
     },
     "execution_count": 44,
     "metadata": {},
     "output_type": "execute_result"
    }
   ],
   "source": [
    "enn_best_params = {'kind_sel': 'mode', 'n_neighbors': 3}\n",
    "smote_best_params = {'k_neighbors': 1, 'sampling_strategy': 0.25, 'random_state': 0}"
   ]
  },
  {
   "cell_type": "code",
   "execution_count": 48,
   "metadata": {},
   "outputs": [
    {
     "name": "stdout",
     "output_type": "stream",
     "text": [
      "SMOTEENN\n",
      "AUROC: 84.51%\n",
      "F1-score: 30.49%\n",
      "Precision: 16.05%\n",
      "Recall: 73.39%\n",
      "\n",
      "EditedNearestNeighbours\n",
      "AUROC: 85.28%\n",
      "F1-score: 17.27%\n",
      "Precision: 39.17%\n",
      "Recall: 37.90%\n",
      "\n",
      "SMOTE\n",
      "AUROC: 85.22%\n",
      "F1-score: 28.21%\n",
      "Precision: 18.80%\n",
      "Recall: 62.90%\n",
      "\n"
     ]
    }
   ],
   "source": [
    "\n",
    "enn_best = EditedNearestNeighbours(**enn_best_params)\n",
    "smote_best = SMOTE(**smote_best_params)\n",
    "smoteenn_best = SMOTEENN(smote=smote_best,\n",
    "                         enn=enn_best)\n",
    "\n",
    "MODS = [smoteenn_best, enn_best, smote_best]\n",
    "\n",
    "for modifier in MODS:\n",
    "    pipeline = Pipeline([\n",
    "    (\"mod\", modifier),\n",
    "    (\"clf\", RandomForestClassifier(class_weight=\"balanced\", \n",
    "                                   random_state=0, \n",
    "                                   n_jobs=-1))\n",
    "    ])\n",
    "\n",
    "    pipeline.fit(X_train, y_train)\n",
    "    print(modifier.__class__.__name__)\n",
    "    assess_rf_performance(pipeline, X_test, y_test)\n",
    "\n",
    "    y_pred = pipeline.predict_proba(X_test)[:,1] >= optimal_thresh\n",
    "    rf_csl_precision = precision_score(y_test, y_pred)\n",
    "    rf_csl_recall = recall_score(y_test, y_pred)\n",
    "    print(f\"Precision: {100 * rf_csl_precision:.2f}%\")\n",
    "    print(f\"Recall: {100 * rf_csl_recall:.2f}%\")\n",
    "\n",
    "\n",
    "    print('')"
   ]
  },
  {
   "cell_type": "markdown",
   "metadata": {},
   "source": [
    "//KOMENTARZ\n",
    "\n",
    "Do tego konkretnego zastosowania dalej bym się upierał że Recall jest najważniejszy, więc wydaje mi się że SMOTEENN daje sobie już dobrze radę, mimo iż precyzja lekko kuleje, szczególnie względem dwóch składowych na nią modyfikatorów"
   ]
  },
  {
   "cell_type": "markdown",
   "metadata": {},
   "source": [
    "## Klasyfikacja ekstremalnie niezbalansowana i anomaly detection"
   ]
  },
  {
   "cell_type": "markdown",
   "metadata": {},
   "source": [
    "Jako nasz drugi zbiór wykorzystamy [Credit Card Fraud Detection dataset](https://www.kaggle.com/datasets/mlg-ulb/creditcardfraud). Został on stworzony przez naukowców z Université Libre de Bruxelles we współpracy z firmą Wordline, obsługującą transakcje finansowe. Jest to największa europejska firma tego typu, i jedna z największych na świecie. Na potrzeby tego datasetu udostępniła transakcje z Europy z września 2013 roku.\n",
    "\n",
    "Jest to ponad 284 tysiące transakcji, z czego zaledwie 492 to transakcje będące wynikiem przestępstwa (fraud transaction). Klasa pozytywna to zatem około 0.172% danych, co wymaga specjalnych algorytmów i metryk. Cechy w zbiorze zostały zanonimizowane za pomocą transformacji PCA, dzięki czemu można było publicznie udostępnić taki zbiór. Jedynie publicznie znane cechy to \"Time\" i \"Amount\". Wszystkie cechy są numeryczne i nie ma wartości brakujących, a dane są najwyższej możliwej jakości (generowane automatycznie, a fraud jest bardzo dokładnie sprawdzany jako przestępstwa), więc jest doskonały do uczenia maszynowego.\n",
    "\n",
    "Warto pamiętać, że chociaż fraud to tak mało danych, to każdy jeden przypadek to bardzo ciężkie przestępstwo, często mogące zrujnować komuś życie, więc wykrycie możliwie jak największej liczby z nich obowiązkiem prawnym firm finansowych. Z tego względu algorytmy stanowią tutaj część systemu, flagujące transakcje jako podejrzane według prawdopodobieństwa. Później następuje weryfikacja ręczna w takich wypadkach.\n",
    "\n",
    "Ze względu na powyższe cechy zbioru, autorzy proponują metrykę **Area Under Precision-Recall Curve (AUPRC)**. Trzeba pamiętać, żeby uważać przy łączeniu jej z under- i oversamplingiem, bo zmieniają one proporcję klasy pozytywnej."
   ]
  },
  {
   "cell_type": "markdown",
   "metadata": {},
   "source": [
    "Ze względu na bardzo duży rozmiar zbioru najpierw go zmniejszymy, żeby wszystko liczyło się w rozsądnym czasie. Naruszymy przy tym balans klas i zwiększymy stosunek outlierów, ale ze względów czysto praktycznych jesteśmy do tego zmuszeni. Dokonamy takiego losowego undersamplingu, żeby zostało 50 tysięcy próbek z klasy negatywnej i wszystkie z klasy pozytywnej.\n",
    "\n",
    "W praktyce też tak się czasem robi - na nic nam potężna ilość danych, jeżeli nie jesteśmy w stanie nic na tym policzyć. Ostatecznie fraud transaction stanowią dalej niecały 1% naszych danych, więc zbiór dalej jest ekstremalnie niezbalansowany i przybliżenie prawdziwych danych jest dobre.\n",
    "\n",
    "Ma to też tę zaletę, że zwalcza zjawisko nazywane **swamping**. Występuje ono w anomaly detection, gdy mamy totalnie za dużo klasy dominującej i nachodzi ona na chmurę punktów z klasy mniejszościowej (anomalii), \"zalewając\" ją. Powoduje to często FP, kiedy te przykłady z klasy dominującej zostają uznane za pozytywne.\n",
    "\n",
    "Standaryzujemy też dane, bo skorzystamy z metod opartych o najbliższych sąsiadów."
   ]
  },
  {
   "cell_type": "code",
   "execution_count": 56,
   "metadata": {},
   "outputs": [],
   "source": [
    "from imblearn.under_sampling import RandomUnderSampler\n",
    "\n",
    "\n",
    "df = pd.read_parquet(\"credit_card_fraud_data.parquet\")\n",
    "# df = df.drop(columns=\"Time\") # Nie wiem dlaczego, ale już w df nie ma takiej kolumny, więc omijam\n",
    "y = df.pop(\"Class\")\n",
    "\n",
    "sampling_strategy = {0: 50000, 1: (y == 1).sum()}\n",
    "\n",
    "random_under_sampler = RandomUnderSampler(sampling_strategy=sampling_strategy)\n",
    "df, y = random_under_sampler.fit_resample(df, y)\n",
    "\n",
    "X_train, X_test, y_train, y_test = train_test_split(\n",
    "    df, y, test_size=0.25, random_state=0, stratify=y\n",
    ")\n",
    "\n",
    "scaler = StandardScaler()\n",
    "scaler.fit(X_train)\n",
    "\n",
    "X_train = scaler.transform(X_train)\n",
    "X_test = scaler.transform(X_test)"
   ]
  },
  {
   "cell_type": "code",
   "execution_count": 57,
   "metadata": {},
   "outputs": [
    {
     "name": "stdout",
     "output_type": "stream",
     "text": [
      "Fraud class after resampling: 0.97% of the dataset\n"
     ]
    }
   ],
   "source": [
    "y_pos_count = (y == 1).sum()\n",
    "y_pos_perc = y_pos_count / len(y)\n",
    "\n",
    "print(f\"Fraud class after resampling: {100 * y_pos_perc:.2f}% of the dataset\")"
   ]
  },
  {
   "cell_type": "markdown",
   "metadata": {},
   "source": [
    "Użyjemy po kolei dwóch algorytmów nienadzorowanego outlier detection:\n",
    "- kNN\n",
    "- Isolation Forest\n",
    "\n",
    "Jako wartość parametru `contamination`, czyli oczekiwanej proporcji outlierów, warto zacząć po prostu od ułamka anomalii w zbiorze treningowym, jeżeli jest ona znana."
   ]
  },
  {
   "cell_type": "code",
   "execution_count": 58,
   "metadata": {},
   "outputs": [],
   "source": [
    "from sklearn.metrics import average_precision_score\n",
    "\n",
    "\n",
    "def assess_anomaly_detection_model(estimator, X_test, y_test) -> None:\n",
    "    y_pred_score = estimator.predict_proba(X_test)\n",
    "\n",
    "    # in PyOD, .predict_proba() sometimes returns probability distribution,\n",
    "    # and sometimes it returns only probability of being anomaly\n",
    "    if len(y_pred_score.shape) > 1:\n",
    "        y_pred_score = y_pred_score[:, 1]\n",
    "\n",
    "    auprc = average_precision_score(y_test, y_pred_score)\n",
    "    print(f\"AUPRC: {100 * auprc:.2f}%\")\n"
   ]
  },
  {
   "cell_type": "code",
   "execution_count": 60,
   "metadata": {},
   "outputs": [
    {
     "name": "stdout",
     "output_type": "stream",
     "text": [
      "kNN metrics\n",
      "AUPRC: 13.99%\n",
      "\n",
      "Isolation Forest metrics\n",
      "AUPRC: 41.19%\n",
      "\n"
     ]
    }
   ],
   "source": [
    "from pyod.models.iforest import IForest\n",
    "from pyod.models.knn import KNN\n",
    "\n",
    "\n",
    "contamination = (y == 1).sum() / len(y)\n",
    "\n",
    "knn = KNN(contamination=contamination, n_jobs=-1)\n",
    "knn.fit(X_train)\n",
    "print(\"kNN metrics\")\n",
    "assess_anomaly_detection_model(knn, X_test, y_test)\n",
    "print()\n",
    "\n",
    "iforest = IForest(contamination=contamination, behaviour=\"new\", random_state=0, n_jobs=-1)\n",
    "iforest.fit(X_train)\n",
    "print(\"Isolation Forest metrics\")\n",
    "assess_anomaly_detection_model(iforest, X_test, y_test)\n",
    "print()"
   ]
  },
  {
   "cell_type": "markdown",
   "metadata": {},
   "source": [
    "kNN wykazuje na pewno potencjał (pamiętajmy, że AUPRC ma typowo bardzo niskie wartości!), ale nasz zbiór jest dość duży, więc czuć wolniejsze tempo tej metody, a niestety PyOD nie współgra dobrze z PyNNDescent, żeby go przyspieszyć z użyciem ANN. Dlatego skupimy się teraz na Isolation Forest.\n",
    "\n",
    "Jego najważniejsze hiperparametry to:\n",
    "- `n_estimators` - liczba drzew, typowo ok. 500 jest już osiągana asymptota wyniku\n",
    "- `max_samples` - wielkość próbki per drzewo, domyślnie 256, ale nieco większa może pomóc, jeżeli mamy naprawdę masywny zbiór\n",
    "\n",
    "Typowo `contamination` niewiele zmienia w przypadku tego algorytmu, kiedy używamy metryki opartej o prawdopodobieństwa, takiej jak AUPRC."
   ]
  },
  {
   "cell_type": "markdown",
   "metadata": {},
   "source": [
    "**Zadanie 6 (1.5 punktu)**\n",
    "\n",
    "1. Dokonaj tuningu hiperarametrów po kolei (step-wise) za pomocą walidacji skrośnej:\n",
    "   - najpierw `n_estimators`, wartości `[100, 200, 300, 400, 500]`\n",
    "   - później `max_samples`,  wartości `[100, 200, 256, 300, 400, 500]`\n",
    "   - wykorzystaj wartość `contamination` obliczoną wcześniej\n",
    "   - użyj `random_state=0` i `n_jobs=-1` dla obiektu `IForest`\n",
    "   - użyj 5-krotnej walidacji skrośnej, optymalizując `\"average_precision\"` (AUPRC)\n",
    "2. Wypisz znalezione optymalne wartości parametrów.\n",
    "3. Wytrenuj Isolation Forest z wartościami obu parametrów. Sprawdź wynik na zbiorze testowym.\n",
    "4. Skomentuj, czy udało się poprawić wynik. Czy twoim zdaniem było warto dokonać tuningu obu hiperparamametrów, czy wystarczyłby jeden z nich?\n",
    "\n",
    "**Uwaga:** przez drobnego buga w połączeniu `pyod` i najnowszych wersji Scikit-learn trzeba użyć explicite funkcji obliczającej AUPRC, przygotowano ją poniżej."
   ]
  },
  {
   "cell_type": "code",
   "execution_count": 90,
   "metadata": {},
   "outputs": [],
   "source": [
    "from sklearn.metrics import make_scorer\n",
    "\n",
    "\n",
    "def auprc(estimator, X, y):\n",
    "    return average_precision_score(y, estimator.predict_proba(X))\n",
    "\n",
    "param_grid = {\n",
    "    \"n_estimators\" : [100, 200, 300, 400, 500],\n",
    "    \"max_samples\" : [256],\n",
    "    \"random_state\" : [0],\n",
    "    \"contamination\" : [contamination],\n",
    "    \"n_jobs\" : [-1]\n",
    "}\n",
    "\n",
    "\n",
    "auprc = make_scorer(average_precision_score)\n",
    "\n",
    "params = {\n",
    "    \"estimator\": IForest(),\n",
    "    \"scoring\": auprc,\n",
    "    \"param_grid\": param_grid,\n",
    "    \"verbose\": 1,\n",
    "    \"cv\": 5\n",
    "}\n",
    "\n",
    "def train_grid(params, paramName=None):\n",
    "    clf_grid = GridSearchCV(**params)\n",
    "    t = time()\n",
    "    clf_grid.fit(X_train, y_train)\n",
    "    t2 = time()\n",
    "    if paramName:\n",
    "        print(f\"best {paramName}: {clf_grid.best_params_[paramName]}\")\n",
    "    print(f\"TIME: {(t2 - t)/60} min\")\n",
    "    print(\"Train metrics\")\n",
    "    assess_anomaly_detection_model(clf_grid, X_train, y_train)\n",
    "    print()\n",
    "    print(\"Test metrics\")\n",
    "    assess_anomaly_detection_model(clf_grid, X_test, y_test)\n",
    "    print('')"
   ]
  },
  {
   "cell_type": "markdown",
   "metadata": {},
   "source": [
    "sklern zapętlił się w logice, ponieważ uważał że nie powinno dawać się `y`, ale gdy go brakowało nie chciał działać, więc po prostu ustawiłem brak warningów na chwilę"
   ]
  },
  {
   "cell_type": "code",
   "execution_count": 86,
   "metadata": {},
   "outputs": [],
   "source": [
    "import warnings\n",
    "warnings.filterwarnings(\"ignore\", message=\"y should not be present\")"
   ]
  },
  {
   "cell_type": "code",
   "execution_count": 91,
   "metadata": {
    "scrolled": true
   },
   "outputs": [
    {
     "name": "stdout",
     "output_type": "stream",
     "text": [
      "Fitting 5 folds for each of 5 candidates, totalling 25 fits\n",
      "best n_estimators: 500\n",
      "TIME: 0.6765214800834656 min\n",
      "Train metrics\n",
      "AUPRC: 51.07%\n",
      "\n",
      "Test metrics\n",
      "AUPRC: 44.38%\n",
      "\n",
      "Fitting 5 folds for each of 6 candidates, totalling 30 fits\n",
      "best max_samples: 300\n",
      "TIME: 0.6424947619438172 min\n",
      "Train metrics\n",
      "AUPRC: 50.36%\n",
      "\n",
      "Test metrics\n",
      "AUPRC: 42.88%\n",
      "\n"
     ]
    }
   ],
   "source": [
    "train_grid(params, \"n_estimators\")\n",
    "param_grid[\"n_estimators\"] = [300]\n",
    "param_grid[\"max_samples\"] = [100, 200, 256, 300, 400, 500]\n",
    "train_grid(params, \"max_samples\")"
   ]
  },
  {
   "cell_type": "code",
   "execution_count": null,
   "metadata": {},
   "outputs": [],
   "source": [
    "warnings.filterwarnings(\"default\", message=\"y should not be present\")"
   ]
  },
  {
   "cell_type": "code",
   "execution_count": 94,
   "metadata": {},
   "outputs": [
    {
     "name": "stdout",
     "output_type": "stream",
     "text": [
      "Precision: 3.51%\n",
      "Recall: 92.68%\n",
      "AUPRC: 45.05%\n"
     ]
    }
   ],
   "source": [
    "params_iforest = {\n",
    "    \"n_estimators\" : 500,\n",
    "    \"max_samples\" : 300,\n",
    "    \"random_state\" : 0,\n",
    "    \"contamination\" : contamination,\n",
    "    \"n_jobs\" : -1\n",
    "}\n",
    "best_if = IForest(**params_iforest)\n",
    "best_if.fit(X_train)\n",
    "\n",
    "y_pred = best_if.predict_proba(X_test)[:,1] >= optimal_thresh\n",
    "rf_csl_precision = precision_score(y_test, y_pred)\n",
    "rf_csl_recall = recall_score(y_test, y_pred)\n",
    "print(f\"Precision: {100 * rf_csl_precision:.2f}%\")\n",
    "print(f\"Recall: {100 * rf_csl_recall:.2f}%\")\n",
    "assess_anomaly_detection_model(best_if, X_test, y_test)"
   ]
  },
  {
   "cell_type": "markdown",
   "metadata": {},
   "source": [
    "// KOMENTARZ\n",
    "\n",
    "Wynik zadowalający, aczkolwiek jest lekka niepewność związana z ilością FP, która jest ogromna (nie można przesłuchiwać co drugiego klienta banku czy nie popełnił przypadkiem zbrodni na zakupie bułek)"
   ]
  },
  {
   "cell_type": "markdown",
   "metadata": {},
   "source": [
    "Zaprezentowane podejścia należały do **uczenia nienadzorowanego (unsupervised learning)**, gdyż te algorytmy nie potrzebowały klas dla przykładów ze zbioru treningowego. W szczególności Isolation Forest potrafi działać bardzo dobrze nawet wtedy, kiedy zbiór uczący nie zawiera żadnych anomalii. Wykorzystanie takich algorytmów jest zatem proste i tanie, a w szczególności można dla nich łatwo stworzyć potężne zbiory danych.\n",
    "\n",
    "Jeżeli mamy luksus posiadania pełnej informacji o klasach, możemy użyć algorytmów uczenia nadzorowanego (supervised learning). W szczególności można także połączyć te podejścia, co realizuje **uczenie pół-nadzorowane (semi-supervised learning)**, którego przedstawicielem jest XGBoost Outlier Detection (XGBOD). Polega on na obliczeniu anomaly scores dla próbek za pomocą algorytmów nienadzorowanych (np. kNN czy Isolation Forest) i doklejeniu ich jako dodatkowych cech do naszego zbioru treningowego. Można stosować jeden algorytm wielokrotnie, np. kNN dla wielu wartości k, bo wtedy XGBoost ma wiele nowych cech (dla różnych gęstości outlierów) i może je elastycznie łączyć.\n",
    "\n",
    "Tak naprawdę podejście to jest bardzo ogólne, i można by zastosować dowolne połączenia ekstrekcji dodatkowych cech anomalii i klasyfikatorów. XGBOD to po prostu pierwszy zaproponowany przykład takiego algorytmu i działa naprawdę dobrze.\n",
    "\n",
    "PyOD implementuje to w klasie `XGBOD`, która przyjmuje argument `estimator_list`. Jest to lista obiektów klas do nienadzorowanego outlier detection, np. `KNN` czy `IForest` (samych klas, przed treningiem przez `.fit()`). Sam trening i predykcja działa tak jak w przypadku poprzednich algorytmów."
   ]
  },
  {
   "cell_type": "markdown",
   "metadata": {},
   "source": [
    "**Zadanie 7 (1.5 punktu)**\n",
    "\n",
    "1. Stwórz listę `estimator_list`, składającą się z:\n",
    "   - algorytmów `KNN` z `n_neighbors`: `[1, 3, 5, 10, 20, 30]`\n",
    "   - algorytmów `IForest` z `n_estimators`: `[50, 100, 200, 300]`\n",
    "   - pamiętaj o przekazaniu `n_jobs=-1` oraz `random_state=0` (w razie potrzeby) podczas tworzenia obiektów tych klas\n",
    "2. Wytrenuj algorytm `XGBOD`, pamiętaj o przekazaniu stworzonego `estimator_list` raz o ustawieniu `n_jobs=-1` i `random_state=0`.\n",
    "3. Dokonaj ewaluacji wyników na zbiorze testowym.\n",
    "4. Skomentuj:\n",
    "   - jak mają się do siebie wyniki podejścia nienadzorowanego i w pełni nadzorowanego?\n",
    "   - co uważasz o podejściu pół-nadzorowanym, w którym skorzystaliśmy z dodatkowych cech?\n",
    "   - czy twoim zdaniem finalna wartość metryki jest zadowalająca?\n",
    "   - czy trening subiektywnie trwał zauważalnie dłużej od tego dla algorytmów nienadzorowanych?\n",
    "   - czy twoim zdaniem warto ponieść wysiłek i koszty, pozwalające na użycie takiego algorytmu pół-nadzorowanego?\n",
    "\n",
    "**Uwaga:** może się to liczyć dość długo, rzędu kilku minut. Jeżeli będzie definitywnie zbyt długie, zmniejsz liczbę algorytmów KNN."
   ]
  },
  {
   "cell_type": "code",
   "execution_count": 108,
   "metadata": {},
   "outputs": [],
   "source": [
    "from pyod.models.xgbod import XGBOD\n",
    "\n",
    "knn_list = [KNN(n_neighbors=i, n_jobs=-1) for i in [1, 3, 5, 10, 20, 30]]\n",
    "forest_list = [IForest(n_estimators=i, n_jobs=-1, random_state=0) for i in [50, 100, 200, 300]]\n",
    "estimator_list = knn_list + forest_list\n",
    "\n",
    "\n",
    "xgb_clf = XGBOD(\n",
    "            estimator_list=estimator_list,\n",
    "            n_jobs=-1,\n",
    "            random_state=0\n",
    "            )\n"
   ]
  },
  {
   "cell_type": "code",
   "execution_count": 110,
   "metadata": {},
   "outputs": [
    {
     "name": "stderr",
     "output_type": "stream",
     "text": [
      "c:\\Install\\anaconda\\lib\\site-packages\\xgboost\\core.py:160: UserWarning: [23:04:49] WARNING: C:\\buildkite-agent\\builds\\buildkite-windows-cpu-autoscaling-group-i-0b3782d1791676daf-1\\xgboost\\xgboost-ci-windows\\src\\learner.cc:742: \n",
      "Parameters: { \"silent\" } are not used.\n",
      "\n",
      "  warnings.warn(smsg, UserWarning)\n"
     ]
    },
    {
     "name": "stdout",
     "output_type": "stream",
     "text": [
      "AUPRC: 86.43%\n"
     ]
    }
   ],
   "source": [
    "xgb_clf.fit(X_train, y_train)\n",
    "assess_anomaly_detection_model(xgb_clf, X_test, y_test)"
   ]
  },
  {
   "cell_type": "markdown",
   "metadata": {},
   "source": [
    "// KOMENTARZ\n",
    "- podejście w pełni nadzorowane wydawało się lekko lepsze wyniki niż nienadzorowane\n",
    "- pół-nadzorowane podejście wydaje się najlepszym pod względem wyników rozwiązaniem. Problemem jest jedynie czas który wymagał na predykcję, który ze względu na dużo odpaleń KNN i lasów był najdłuższy (większy niż wszystkie inne metody i ich trenowanie)\n",
    "- zawsze może być lepiej, natomiast względem początkowych wartości jest już dużo lepiej\n",
    "- trening wydawał się wcale nie dłuższy, oczywiście wymagał wytrenowania wielu modeli, ale względem czasu predykcji - znikomy\n",
    "- jeśli "
   ]
  },
  {
   "cell_type": "markdown",
   "metadata": {},
   "source": [
    "## Zadanie dodatkowe (3 punkty)\n",
    "\n",
    "W przypadku niektórych zbiorów danych anomalie mogą być zjawiskiem dość pozytywnym, tylko po prostu ekstremalnie rzadkim. Jest tak typowo w farmacji, gdzie molekuły będące potencjalnymi lekami są bardzo niewielkim ułamkiem zbiorów nawet wśród wstępnie typowanych, obiecujących substancji. Pierwszy etap projektowania nowych leków, tzw. high-throughput screening (HTS), polega na identyfikacji tego bardzo niewielkiego podzbioru spośród wielkich baz molekuł, w celu dalszego badania.\n",
    "\n",
    "Zbiór AID746, [dostępny na platformie Kaggle](https://www.kaggle.com/datasets/uciml/bioassay-datasets), dotyczy identyfikacji kinaz białkowych aktywowanych mitogenami ([Wikipedia](https://pl.wikipedia.org/wiki/Kinazy_aktywowane_mitogenami)). Są to enzymy regulujące odpowiedzi na sygnały docierające do komórki, regulujące wiele ciekawych funkcji. Mają potencjalne zastosowania m.in. w rozwoju metod chemoterapii, badaniu insulinoodporności czy rozwoju leków przeciwzapalnych ([Wikipedia](https://en.wikipedia.org/wiki/Mitogen-activated_protein_kinase#As_therapeutic_targets)).\n",
    "\n",
    "W tym zbiorze danych klasa substancji aktywnych stanowi 0.61% zbioru, spośród ok. 57 tysięcy substancji w zbiorze. Jest on już podzielony na część treningową i testową.\n",
    "\n",
    "Dokonaj klasyfikacji oraz tuningu hiperparametrów dla tego zbioru z pomocą:\n",
    "- kNN\n",
    "- Isolation Forest\n",
    "- XGBOD - tu warto zwrócić uwagę też na parametr `scale_pos_weight`, którego dla uproszczenia nie używaliśmy w ostatnim zadaniu\n",
    "\n",
    "Możesz spróbować także użyć undersamplingu, oversamplingu oraz ich połączenia.\n",
    "\n",
    "Jako metryki użyj AUPRC. Podaj także czułość (recall) finalnego algorytmu - w końcu na etapie początkowego filtrowania substancji chcemy na pewno mieć jak najmniej false negatives.\n",
    "\n",
    "Na podstawie wyników oceń, z jakim typem anomalii mamy tu do czynienia. Czy udało się uzyskać zadowalające w twojej ocenie wyniki?"
   ]
  },
  {
   "cell_type": "code",
   "execution_count": 115,
   "metadata": {},
   "outputs": [],
   "source": [
    "X_train = pd.read_csv('data_AID/AID746red_train.csv')\n",
    "X_test = pd.read_csv('data_AID/AID746red_test.csv')\n",
    "y_train = X_train.pop(\"Outcome\")\n",
    "y_test = X_test.pop(\"Outcome\")"
   ]
  },
  {
   "cell_type": "markdown",
   "metadata": {},
   "source": [
    "#### Nieskończone :c"
   ]
  },
  {
   "cell_type": "code",
   "execution_count": 117,
   "metadata": {},
   "outputs": [
    {
     "name": "stdout",
     "output_type": "stream",
     "text": [
      "Fitting 5 folds for each of 8 candidates, totalling 40 fits\n"
     ]
    },
    {
     "ename": "KeyboardInterrupt",
     "evalue": "",
     "output_type": "error",
     "traceback": [
      "\u001b[1;31m---------------------------------------------------------------------------\u001b[0m",
      "\u001b[1;31mKeyboardInterrupt\u001b[0m                         Traceback (most recent call last)",
      "Input \u001b[1;32mIn [117]\u001b[0m, in \u001b[0;36m<cell line: 31>\u001b[1;34m()\u001b[0m\n\u001b[0;32m     33\u001b[0m param_grid \u001b[38;5;241m=\u001b[39m param_grid[\u001b[38;5;124m'\u001b[39m\u001b[38;5;124mparam_grid\u001b[39m\u001b[38;5;124m'\u001b[39m]\n\u001b[0;32m     35\u001b[0m grid_search \u001b[38;5;241m=\u001b[39m GridSearchCV(model, \n\u001b[0;32m     36\u001b[0m                            param_grid, \n\u001b[0;32m     37\u001b[0m                            cv\u001b[38;5;241m=\u001b[39m\u001b[38;5;241m5\u001b[39m, \n\u001b[0;32m     38\u001b[0m                            scoring\u001b[38;5;241m=\u001b[39mauprc, \n\u001b[0;32m     39\u001b[0m                            n_jobs\u001b[38;5;241m=\u001b[39m\u001b[38;5;241m-\u001b[39m\u001b[38;5;241m1\u001b[39m, \n\u001b[0;32m     40\u001b[0m                            verbose\u001b[38;5;241m=\u001b[39m\u001b[38;5;241m2\u001b[39m)\n\u001b[1;32m---> 42\u001b[0m \u001b[43mgrid_search\u001b[49m\u001b[38;5;241;43m.\u001b[39;49m\u001b[43mfit\u001b[49m\u001b[43m(\u001b[49m\u001b[43mX_train\u001b[49m\u001b[43m,\u001b[49m\u001b[43m \u001b[49m\u001b[43my_train\u001b[49m\u001b[43m)\u001b[49m\n\u001b[0;32m     44\u001b[0m grid_search_results\u001b[38;5;241m.\u001b[39mappend(grid_search)\n",
      "File \u001b[1;32mc:\\Install\\anaconda\\lib\\site-packages\\sklearn\\base.py:1474\u001b[0m, in \u001b[0;36m_fit_context.<locals>.decorator.<locals>.wrapper\u001b[1;34m(estimator, *args, **kwargs)\u001b[0m\n\u001b[0;32m   1467\u001b[0m     estimator\u001b[38;5;241m.\u001b[39m_validate_params()\n\u001b[0;32m   1469\u001b[0m \u001b[38;5;28;01mwith\u001b[39;00m config_context(\n\u001b[0;32m   1470\u001b[0m     skip_parameter_validation\u001b[38;5;241m=\u001b[39m(\n\u001b[0;32m   1471\u001b[0m         prefer_skip_nested_validation \u001b[38;5;129;01mor\u001b[39;00m global_skip_validation\n\u001b[0;32m   1472\u001b[0m     )\n\u001b[0;32m   1473\u001b[0m ):\n\u001b[1;32m-> 1474\u001b[0m     \u001b[38;5;28;01mreturn\u001b[39;00m fit_method(estimator, \u001b[38;5;241m*\u001b[39margs, \u001b[38;5;241m*\u001b[39m\u001b[38;5;241m*\u001b[39mkwargs)\n",
      "File \u001b[1;32mc:\\Install\\anaconda\\lib\\site-packages\\sklearn\\model_selection\\_search.py:970\u001b[0m, in \u001b[0;36mBaseSearchCV.fit\u001b[1;34m(self, X, y, **params)\u001b[0m\n\u001b[0;32m    964\u001b[0m     results \u001b[38;5;241m=\u001b[39m \u001b[38;5;28mself\u001b[39m\u001b[38;5;241m.\u001b[39m_format_results(\n\u001b[0;32m    965\u001b[0m         all_candidate_params, n_splits, all_out, all_more_results\n\u001b[0;32m    966\u001b[0m     )\n\u001b[0;32m    968\u001b[0m     \u001b[38;5;28;01mreturn\u001b[39;00m results\n\u001b[1;32m--> 970\u001b[0m \u001b[38;5;28;43mself\u001b[39;49m\u001b[38;5;241;43m.\u001b[39;49m\u001b[43m_run_search\u001b[49m\u001b[43m(\u001b[49m\u001b[43mevaluate_candidates\u001b[49m\u001b[43m)\u001b[49m\n\u001b[0;32m    972\u001b[0m \u001b[38;5;66;03m# multimetric is determined here because in the case of a callable\u001b[39;00m\n\u001b[0;32m    973\u001b[0m \u001b[38;5;66;03m# self.scoring the return type is only known after calling\u001b[39;00m\n\u001b[0;32m    974\u001b[0m first_test_score \u001b[38;5;241m=\u001b[39m all_out[\u001b[38;5;241m0\u001b[39m][\u001b[38;5;124m\"\u001b[39m\u001b[38;5;124mtest_scores\u001b[39m\u001b[38;5;124m\"\u001b[39m]\n",
      "File \u001b[1;32mc:\\Install\\anaconda\\lib\\site-packages\\sklearn\\model_selection\\_search.py:1527\u001b[0m, in \u001b[0;36mGridSearchCV._run_search\u001b[1;34m(self, evaluate_candidates)\u001b[0m\n\u001b[0;32m   1525\u001b[0m \u001b[38;5;28;01mdef\u001b[39;00m \u001b[38;5;21m_run_search\u001b[39m(\u001b[38;5;28mself\u001b[39m, evaluate_candidates):\n\u001b[0;32m   1526\u001b[0m     \u001b[38;5;124;03m\"\"\"Search all candidates in param_grid\"\"\"\u001b[39;00m\n\u001b[1;32m-> 1527\u001b[0m     \u001b[43mevaluate_candidates\u001b[49m\u001b[43m(\u001b[49m\u001b[43mParameterGrid\u001b[49m\u001b[43m(\u001b[49m\u001b[38;5;28;43mself\u001b[39;49m\u001b[38;5;241;43m.\u001b[39;49m\u001b[43mparam_grid\u001b[49m\u001b[43m)\u001b[49m\u001b[43m)\u001b[49m\n",
      "File \u001b[1;32mc:\\Install\\anaconda\\lib\\site-packages\\sklearn\\model_selection\\_search.py:916\u001b[0m, in \u001b[0;36mBaseSearchCV.fit.<locals>.evaluate_candidates\u001b[1;34m(candidate_params, cv, more_results)\u001b[0m\n\u001b[0;32m    908\u001b[0m \u001b[38;5;28;01mif\u001b[39;00m \u001b[38;5;28mself\u001b[39m\u001b[38;5;241m.\u001b[39mverbose \u001b[38;5;241m>\u001b[39m \u001b[38;5;241m0\u001b[39m:\n\u001b[0;32m    909\u001b[0m     \u001b[38;5;28mprint\u001b[39m(\n\u001b[0;32m    910\u001b[0m         \u001b[38;5;124m\"\u001b[39m\u001b[38;5;124mFitting \u001b[39m\u001b[38;5;132;01m{0}\u001b[39;00m\u001b[38;5;124m folds for each of \u001b[39m\u001b[38;5;132;01m{1}\u001b[39;00m\u001b[38;5;124m candidates,\u001b[39m\u001b[38;5;124m\"\u001b[39m\n\u001b[0;32m    911\u001b[0m         \u001b[38;5;124m\"\u001b[39m\u001b[38;5;124m totalling \u001b[39m\u001b[38;5;132;01m{2}\u001b[39;00m\u001b[38;5;124m fits\u001b[39m\u001b[38;5;124m\"\u001b[39m\u001b[38;5;241m.\u001b[39mformat(\n\u001b[0;32m    912\u001b[0m             n_splits, n_candidates, n_candidates \u001b[38;5;241m*\u001b[39m n_splits\n\u001b[0;32m    913\u001b[0m         )\n\u001b[0;32m    914\u001b[0m     )\n\u001b[1;32m--> 916\u001b[0m out \u001b[38;5;241m=\u001b[39m \u001b[43mparallel\u001b[49m\u001b[43m(\u001b[49m\n\u001b[0;32m    917\u001b[0m \u001b[43m    \u001b[49m\u001b[43mdelayed\u001b[49m\u001b[43m(\u001b[49m\u001b[43m_fit_and_score\u001b[49m\u001b[43m)\u001b[49m\u001b[43m(\u001b[49m\n\u001b[0;32m    918\u001b[0m \u001b[43m        \u001b[49m\u001b[43mclone\u001b[49m\u001b[43m(\u001b[49m\u001b[43mbase_estimator\u001b[49m\u001b[43m)\u001b[49m\u001b[43m,\u001b[49m\n\u001b[0;32m    919\u001b[0m \u001b[43m        \u001b[49m\u001b[43mX\u001b[49m\u001b[43m,\u001b[49m\n\u001b[0;32m    920\u001b[0m \u001b[43m        \u001b[49m\u001b[43my\u001b[49m\u001b[43m,\u001b[49m\n\u001b[0;32m    921\u001b[0m \u001b[43m        \u001b[49m\u001b[43mtrain\u001b[49m\u001b[38;5;241;43m=\u001b[39;49m\u001b[43mtrain\u001b[49m\u001b[43m,\u001b[49m\n\u001b[0;32m    922\u001b[0m \u001b[43m        \u001b[49m\u001b[43mtest\u001b[49m\u001b[38;5;241;43m=\u001b[39;49m\u001b[43mtest\u001b[49m\u001b[43m,\u001b[49m\n\u001b[0;32m    923\u001b[0m \u001b[43m        \u001b[49m\u001b[43mparameters\u001b[49m\u001b[38;5;241;43m=\u001b[39;49m\u001b[43mparameters\u001b[49m\u001b[43m,\u001b[49m\n\u001b[0;32m    924\u001b[0m \u001b[43m        \u001b[49m\u001b[43msplit_progress\u001b[49m\u001b[38;5;241;43m=\u001b[39;49m\u001b[43m(\u001b[49m\u001b[43msplit_idx\u001b[49m\u001b[43m,\u001b[49m\u001b[43m \u001b[49m\u001b[43mn_splits\u001b[49m\u001b[43m)\u001b[49m\u001b[43m,\u001b[49m\n\u001b[0;32m    925\u001b[0m \u001b[43m        \u001b[49m\u001b[43mcandidate_progress\u001b[49m\u001b[38;5;241;43m=\u001b[39;49m\u001b[43m(\u001b[49m\u001b[43mcand_idx\u001b[49m\u001b[43m,\u001b[49m\u001b[43m \u001b[49m\u001b[43mn_candidates\u001b[49m\u001b[43m)\u001b[49m\u001b[43m,\u001b[49m\n\u001b[0;32m    926\u001b[0m \u001b[43m        \u001b[49m\u001b[38;5;241;43m*\u001b[39;49m\u001b[38;5;241;43m*\u001b[39;49m\u001b[43mfit_and_score_kwargs\u001b[49m\u001b[43m,\u001b[49m\n\u001b[0;32m    927\u001b[0m \u001b[43m    \u001b[49m\u001b[43m)\u001b[49m\n\u001b[0;32m    928\u001b[0m \u001b[43m    \u001b[49m\u001b[38;5;28;43;01mfor\u001b[39;49;00m\u001b[43m \u001b[49m\u001b[43m(\u001b[49m\u001b[43mcand_idx\u001b[49m\u001b[43m,\u001b[49m\u001b[43m \u001b[49m\u001b[43mparameters\u001b[49m\u001b[43m)\u001b[49m\u001b[43m,\u001b[49m\u001b[43m \u001b[49m\u001b[43m(\u001b[49m\u001b[43msplit_idx\u001b[49m\u001b[43m,\u001b[49m\u001b[43m \u001b[49m\u001b[43m(\u001b[49m\u001b[43mtrain\u001b[49m\u001b[43m,\u001b[49m\u001b[43m \u001b[49m\u001b[43mtest\u001b[49m\u001b[43m)\u001b[49m\u001b[43m)\u001b[49m\u001b[43m \u001b[49m\u001b[38;5;129;43;01min\u001b[39;49;00m\u001b[43m \u001b[49m\u001b[43mproduct\u001b[49m\u001b[43m(\u001b[49m\n\u001b[0;32m    929\u001b[0m \u001b[43m        \u001b[49m\u001b[38;5;28;43menumerate\u001b[39;49m\u001b[43m(\u001b[49m\u001b[43mcandidate_params\u001b[49m\u001b[43m)\u001b[49m\u001b[43m,\u001b[49m\n\u001b[0;32m    930\u001b[0m \u001b[43m        \u001b[49m\u001b[38;5;28;43menumerate\u001b[39;49m\u001b[43m(\u001b[49m\u001b[43mcv\u001b[49m\u001b[38;5;241;43m.\u001b[39;49m\u001b[43msplit\u001b[49m\u001b[43m(\u001b[49m\u001b[43mX\u001b[49m\u001b[43m,\u001b[49m\u001b[43m \u001b[49m\u001b[43my\u001b[49m\u001b[43m,\u001b[49m\u001b[43m \u001b[49m\u001b[38;5;241;43m*\u001b[39;49m\u001b[38;5;241;43m*\u001b[39;49m\u001b[43mrouted_params\u001b[49m\u001b[38;5;241;43m.\u001b[39;49m\u001b[43msplitter\u001b[49m\u001b[38;5;241;43m.\u001b[39;49m\u001b[43msplit\u001b[49m\u001b[43m)\u001b[49m\u001b[43m)\u001b[49m\u001b[43m,\u001b[49m\n\u001b[0;32m    931\u001b[0m \u001b[43m    \u001b[49m\u001b[43m)\u001b[49m\n\u001b[0;32m    932\u001b[0m \u001b[43m\u001b[49m\u001b[43m)\u001b[49m\n\u001b[0;32m    934\u001b[0m \u001b[38;5;28;01mif\u001b[39;00m \u001b[38;5;28mlen\u001b[39m(out) \u001b[38;5;241m<\u001b[39m \u001b[38;5;241m1\u001b[39m:\n\u001b[0;32m    935\u001b[0m     \u001b[38;5;28;01mraise\u001b[39;00m \u001b[38;5;167;01mValueError\u001b[39;00m(\n\u001b[0;32m    936\u001b[0m         \u001b[38;5;124m\"\u001b[39m\u001b[38;5;124mNo fits were performed. \u001b[39m\u001b[38;5;124m\"\u001b[39m\n\u001b[0;32m    937\u001b[0m         \u001b[38;5;124m\"\u001b[39m\u001b[38;5;124mWas the CV iterator empty? \u001b[39m\u001b[38;5;124m\"\u001b[39m\n\u001b[0;32m    938\u001b[0m         \u001b[38;5;124m\"\u001b[39m\u001b[38;5;124mWere there no candidates?\u001b[39m\u001b[38;5;124m\"\u001b[39m\n\u001b[0;32m    939\u001b[0m     )\n",
      "File \u001b[1;32mc:\\Install\\anaconda\\lib\\site-packages\\sklearn\\utils\\parallel.py:67\u001b[0m, in \u001b[0;36mParallel.__call__\u001b[1;34m(self, iterable)\u001b[0m\n\u001b[0;32m     62\u001b[0m config \u001b[38;5;241m=\u001b[39m get_config()\n\u001b[0;32m     63\u001b[0m iterable_with_config \u001b[38;5;241m=\u001b[39m (\n\u001b[0;32m     64\u001b[0m     (_with_config(delayed_func, config), args, kwargs)\n\u001b[0;32m     65\u001b[0m     \u001b[38;5;28;01mfor\u001b[39;00m delayed_func, args, kwargs \u001b[38;5;129;01min\u001b[39;00m iterable\n\u001b[0;32m     66\u001b[0m )\n\u001b[1;32m---> 67\u001b[0m \u001b[38;5;28;01mreturn\u001b[39;00m \u001b[38;5;28;43msuper\u001b[39;49m\u001b[43m(\u001b[49m\u001b[43m)\u001b[49m\u001b[38;5;241;43m.\u001b[39;49m\u001b[38;5;21;43m__call__\u001b[39;49m\u001b[43m(\u001b[49m\u001b[43miterable_with_config\u001b[49m\u001b[43m)\u001b[49m\n",
      "File \u001b[1;32mc:\\Install\\anaconda\\lib\\site-packages\\joblib\\parallel.py:1098\u001b[0m, in \u001b[0;36mParallel.__call__\u001b[1;34m(self, iterable)\u001b[0m\n\u001b[0;32m   1095\u001b[0m     \u001b[38;5;28mself\u001b[39m\u001b[38;5;241m.\u001b[39m_iterating \u001b[38;5;241m=\u001b[39m \u001b[38;5;28;01mFalse\u001b[39;00m\n\u001b[0;32m   1097\u001b[0m \u001b[38;5;28;01mwith\u001b[39;00m \u001b[38;5;28mself\u001b[39m\u001b[38;5;241m.\u001b[39m_backend\u001b[38;5;241m.\u001b[39mretrieval_context():\n\u001b[1;32m-> 1098\u001b[0m     \u001b[38;5;28;43mself\u001b[39;49m\u001b[38;5;241;43m.\u001b[39;49m\u001b[43mretrieve\u001b[49m\u001b[43m(\u001b[49m\u001b[43m)\u001b[49m\n\u001b[0;32m   1099\u001b[0m \u001b[38;5;66;03m# Make sure that we get a last message telling us we are done\u001b[39;00m\n\u001b[0;32m   1100\u001b[0m elapsed_time \u001b[38;5;241m=\u001b[39m time\u001b[38;5;241m.\u001b[39mtime() \u001b[38;5;241m-\u001b[39m \u001b[38;5;28mself\u001b[39m\u001b[38;5;241m.\u001b[39m_start_time\n",
      "File \u001b[1;32mc:\\Install\\anaconda\\lib\\site-packages\\joblib\\parallel.py:975\u001b[0m, in \u001b[0;36mParallel.retrieve\u001b[1;34m(self)\u001b[0m\n\u001b[0;32m    973\u001b[0m \u001b[38;5;28;01mtry\u001b[39;00m:\n\u001b[0;32m    974\u001b[0m     \u001b[38;5;28;01mif\u001b[39;00m \u001b[38;5;28mgetattr\u001b[39m(\u001b[38;5;28mself\u001b[39m\u001b[38;5;241m.\u001b[39m_backend, \u001b[38;5;124m'\u001b[39m\u001b[38;5;124msupports_timeout\u001b[39m\u001b[38;5;124m'\u001b[39m, \u001b[38;5;28;01mFalse\u001b[39;00m):\n\u001b[1;32m--> 975\u001b[0m         \u001b[38;5;28mself\u001b[39m\u001b[38;5;241m.\u001b[39m_output\u001b[38;5;241m.\u001b[39mextend(\u001b[43mjob\u001b[49m\u001b[38;5;241;43m.\u001b[39;49m\u001b[43mget\u001b[49m\u001b[43m(\u001b[49m\u001b[43mtimeout\u001b[49m\u001b[38;5;241;43m=\u001b[39;49m\u001b[38;5;28;43mself\u001b[39;49m\u001b[38;5;241;43m.\u001b[39;49m\u001b[43mtimeout\u001b[49m\u001b[43m)\u001b[49m)\n\u001b[0;32m    976\u001b[0m     \u001b[38;5;28;01melse\u001b[39;00m:\n\u001b[0;32m    977\u001b[0m         \u001b[38;5;28mself\u001b[39m\u001b[38;5;241m.\u001b[39m_output\u001b[38;5;241m.\u001b[39mextend(job\u001b[38;5;241m.\u001b[39mget())\n",
      "File \u001b[1;32mc:\\Install\\anaconda\\lib\\site-packages\\joblib\\_parallel_backends.py:567\u001b[0m, in \u001b[0;36mLokyBackend.wrap_future_result\u001b[1;34m(future, timeout)\u001b[0m\n\u001b[0;32m    564\u001b[0m \u001b[38;5;124;03m\"\"\"Wrapper for Future.result to implement the same behaviour as\u001b[39;00m\n\u001b[0;32m    565\u001b[0m \u001b[38;5;124;03mAsyncResults.get from multiprocessing.\"\"\"\u001b[39;00m\n\u001b[0;32m    566\u001b[0m \u001b[38;5;28;01mtry\u001b[39;00m:\n\u001b[1;32m--> 567\u001b[0m     \u001b[38;5;28;01mreturn\u001b[39;00m \u001b[43mfuture\u001b[49m\u001b[38;5;241;43m.\u001b[39;49m\u001b[43mresult\u001b[49m\u001b[43m(\u001b[49m\u001b[43mtimeout\u001b[49m\u001b[38;5;241;43m=\u001b[39;49m\u001b[43mtimeout\u001b[49m\u001b[43m)\u001b[49m\n\u001b[0;32m    568\u001b[0m \u001b[38;5;28;01mexcept\u001b[39;00m CfTimeoutError \u001b[38;5;28;01mas\u001b[39;00m e:\n\u001b[0;32m    569\u001b[0m     \u001b[38;5;28;01mraise\u001b[39;00m \u001b[38;5;167;01mTimeoutError\u001b[39;00m \u001b[38;5;28;01mfrom\u001b[39;00m \u001b[38;5;21;01me\u001b[39;00m\n",
      "File \u001b[1;32mc:\\Install\\anaconda\\lib\\concurrent\\futures\\_base.py:441\u001b[0m, in \u001b[0;36mFuture.result\u001b[1;34m(self, timeout)\u001b[0m\n\u001b[0;32m    438\u001b[0m \u001b[38;5;28;01melif\u001b[39;00m \u001b[38;5;28mself\u001b[39m\u001b[38;5;241m.\u001b[39m_state \u001b[38;5;241m==\u001b[39m FINISHED:\n\u001b[0;32m    439\u001b[0m     \u001b[38;5;28;01mreturn\u001b[39;00m \u001b[38;5;28mself\u001b[39m\u001b[38;5;241m.\u001b[39m__get_result()\n\u001b[1;32m--> 441\u001b[0m \u001b[38;5;28;43mself\u001b[39;49m\u001b[38;5;241;43m.\u001b[39;49m\u001b[43m_condition\u001b[49m\u001b[38;5;241;43m.\u001b[39;49m\u001b[43mwait\u001b[49m\u001b[43m(\u001b[49m\u001b[43mtimeout\u001b[49m\u001b[43m)\u001b[49m\n\u001b[0;32m    443\u001b[0m \u001b[38;5;28;01mif\u001b[39;00m \u001b[38;5;28mself\u001b[39m\u001b[38;5;241m.\u001b[39m_state \u001b[38;5;129;01min\u001b[39;00m [CANCELLED, CANCELLED_AND_NOTIFIED]:\n\u001b[0;32m    444\u001b[0m     \u001b[38;5;28;01mraise\u001b[39;00m CancelledError()\n",
      "File \u001b[1;32mc:\\Install\\anaconda\\lib\\threading.py:312\u001b[0m, in \u001b[0;36mCondition.wait\u001b[1;34m(self, timeout)\u001b[0m\n\u001b[0;32m    310\u001b[0m \u001b[38;5;28;01mtry\u001b[39;00m:    \u001b[38;5;66;03m# restore state no matter what (e.g., KeyboardInterrupt)\u001b[39;00m\n\u001b[0;32m    311\u001b[0m     \u001b[38;5;28;01mif\u001b[39;00m timeout \u001b[38;5;129;01mis\u001b[39;00m \u001b[38;5;28;01mNone\u001b[39;00m:\n\u001b[1;32m--> 312\u001b[0m         \u001b[43mwaiter\u001b[49m\u001b[38;5;241;43m.\u001b[39;49m\u001b[43macquire\u001b[49m\u001b[43m(\u001b[49m\u001b[43m)\u001b[49m\n\u001b[0;32m    313\u001b[0m         gotit \u001b[38;5;241m=\u001b[39m \u001b[38;5;28;01mTrue\u001b[39;00m\n\u001b[0;32m    314\u001b[0m     \u001b[38;5;28;01melse\u001b[39;00m:\n",
      "\u001b[1;31mKeyboardInterrupt\u001b[0m: "
     ]
    }
   ],
   "source": [
    "knn = KNN()\n",
    "iforest = IForest()\n",
    "xgbod = XGBOD()\n",
    "\n",
    "\n",
    "knn_params = { \"n_neighbors\": [1, 3, 5, 10],\n",
    "                \"method\": ['largest', 'mean'],\n",
    "                \"n_jobs\" : [-1]\n",
    "                }\n",
    "\n",
    "iforest_params = {\"n_estimators\": [50, 100, 200], \n",
    "                    'max_samples': [50, 100, 200],\n",
    "                    \"n_jobs\" : [-1],\n",
    "                    \"random_state\" : [0]\n",
    "                    }\n",
    "\n",
    "scale = np.sum(y_train == 1) / np.sum(y_train == 0)\n",
    "\n",
    "xgbod_params = {\"estimator_list\": estimator_list,\n",
    "                \"n_jobs\" : [-1],\n",
    "                \"random_state\" : [0],\n",
    "                \"scale_pos_weight\" : [1, scale, scale/2]\n",
    "                }\n",
    "\n",
    "knn_grid = {'model': [knn], 'param_grid': knn_params}\n",
    "iforest_grid = {'model': [iforest], 'param_grid': iforest_params}\n",
    "xgbod_grid = {'model': [xgbod], 'param_grid': xgbod_params}\n",
    "\n",
    "\n",
    "param_grids = [knn_grid, iforest_grid, xgbod_grid]\n",
    "\n",
    "grid_search_results = []\n",
    "\n",
    "for param_grid in param_grids:\n",
    "    model = param_grid['model'][0]\n",
    "    param_grid = param_grid['param_grid']\n",
    "    \n",
    "    grid_search = GridSearchCV(model, \n",
    "                               param_grid, \n",
    "                               cv=5, \n",
    "                               scoring=auprc, \n",
    "                               n_jobs=-1, \n",
    "                               verbose=2)\n",
    "    \n",
    "    grid_search.fit(X_train, y_train)\n",
    "    \n",
    "    grid_search_results.append(grid_search)"
   ]
  }
 ],
 "metadata": {
  "kernelspec": {
   "display_name": "Python 3 (ipykernel)",
   "language": "python",
   "name": "python3"
  },
  "language_info": {
   "codemirror_mode": {
    "name": "ipython",
    "version": 3
   },
   "file_extension": ".py",
   "mimetype": "text/x-python",
   "name": "python",
   "nbconvert_exporter": "python",
   "pygments_lexer": "ipython3",
   "version": "3.9.18"
  }
 },
 "nbformat": 4,
 "nbformat_minor": 4
}
